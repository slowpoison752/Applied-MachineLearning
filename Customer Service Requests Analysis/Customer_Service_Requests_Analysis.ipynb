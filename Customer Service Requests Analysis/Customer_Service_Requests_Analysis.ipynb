{
 "cells": [
  {
   "cell_type": "code",
   "execution_count": 1,
   "metadata": {},
   "outputs": [],
   "source": [
    "import pandas as pd\n",
    "import matplotlib\n",
    "import matplotlib.pyplot as plt\n",
    "import seaborn as sns"
   ]
  },
  {
   "cell_type": "code",
   "execution_count": 2,
   "metadata": {},
   "outputs": [
    {
     "name": "stderr",
     "output_type": "stream",
     "text": [
      "c:\\users\\aditya\\appdata\\local\\programs\\python\\python37\\lib\\site-packages\\IPython\\core\\interactiveshell.py:3063: DtypeWarning: Columns (48,49) have mixed types.Specify dtype option on import or set low_memory=False.\n",
      "  interactivity=interactivity, compiler=compiler, result=result)\n"
     ]
    }
   ],
   "source": [
    "nypd_orig = pd.read_csv('./Dataset/311_Service_Requests_from_2010_to_Present.csv')\n",
    "nypd_copy = pd.read_csv('./Dataset/311_Service_Requests_from_2010_to_Present.csv')"
   ]
  },
  {
   "cell_type": "code",
   "execution_count": 3,
   "metadata": {},
   "outputs": [
    {
     "data": {
      "text/plain": [
       "(300698, 53)"
      ]
     },
     "execution_count": 3,
     "metadata": {},
     "output_type": "execute_result"
    }
   ],
   "source": [
    "nypd_copy.shape"
   ]
  },
  {
   "cell_type": "code",
   "execution_count": 5,
   "metadata": {},
   "outputs": [
    {
     "name": "stdout",
     "output_type": "stream",
     "text": [
      "<class 'pandas.core.frame.DataFrame'>\n",
      "RangeIndex: 300698 entries, 0 to 300697\n",
      "Data columns (total 53 columns):\n",
      " #   Column                          Non-Null Count   Dtype  \n",
      "---  ------                          --------------   -----  \n",
      " 0   Unique Key                      300698 non-null  int64  \n",
      " 1   Created Date                    300698 non-null  object \n",
      " 2   Closed Date                     298534 non-null  object \n",
      " 3   Agency                          300698 non-null  object \n",
      " 4   Agency Name                     300698 non-null  object \n",
      " 5   Complaint Type                  300698 non-null  object \n",
      " 6   Descriptor                      294784 non-null  object \n",
      " 7   Location Type                   300567 non-null  object \n",
      " 8   Incident Zip                    298083 non-null  float64\n",
      " 9   Incident Address                256288 non-null  object \n",
      " 10  Street Name                     256288 non-null  object \n",
      " 11  Cross Street 1                  251419 non-null  object \n",
      " 12  Cross Street 2                  250919 non-null  object \n",
      " 13  Intersection Street 1           43858 non-null   object \n",
      " 14  Intersection Street 2           43362 non-null   object \n",
      " 15  Address Type                    297883 non-null  object \n",
      " 16  City                            298084 non-null  object \n",
      " 17  Landmark                        349 non-null     object \n",
      " 18  Facility Type                   298527 non-null  object \n",
      " 19  Status                          300698 non-null  object \n",
      " 20  Due Date                        300695 non-null  object \n",
      " 21  Resolution Description          300698 non-null  object \n",
      " 22  Resolution Action Updated Date  298511 non-null  object \n",
      " 23  Community Board                 300698 non-null  object \n",
      " 24  Borough                         300698 non-null  object \n",
      " 25  X Coordinate (State Plane)      297158 non-null  float64\n",
      " 26  Y Coordinate (State Plane)      297158 non-null  float64\n",
      " 27  Park Facility Name              300698 non-null  object \n",
      " 28  Park Borough                    300698 non-null  object \n",
      " 29  School Name                     300698 non-null  object \n",
      " 30  School Number                   300698 non-null  object \n",
      " 31  School Region                   300697 non-null  object \n",
      " 32  School Code                     300697 non-null  object \n",
      " 33  School Phone Number             300698 non-null  object \n",
      " 34  School Address                  300698 non-null  object \n",
      " 35  School City                     300698 non-null  object \n",
      " 36  School State                    300698 non-null  object \n",
      " 37  School Zip                      300697 non-null  object \n",
      " 38  School Not Found                300698 non-null  object \n",
      " 39  School or Citywide Complaint    0 non-null       float64\n",
      " 40  Vehicle Type                    0 non-null       float64\n",
      " 41  Taxi Company Borough            0 non-null       float64\n",
      " 42  Taxi Pick Up Location           0 non-null       float64\n",
      " 43  Bridge Highway Name             243 non-null     object \n",
      " 44  Bridge Highway Direction        243 non-null     object \n",
      " 45  Road Ramp                       213 non-null     object \n",
      " 46  Bridge Highway Segment          213 non-null     object \n",
      " 47  Garage Lot Name                 0 non-null       float64\n",
      " 48  Ferry Direction                 1 non-null       object \n",
      " 49  Ferry Terminal Name             2 non-null       object \n",
      " 50  Latitude                        297158 non-null  float64\n",
      " 51  Longitude                       297158 non-null  float64\n",
      " 52  Location                        297158 non-null  object \n",
      "dtypes: float64(10), int64(1), object(42)\n",
      "memory usage: 121.6+ MB\n"
     ]
    }
   ],
   "source": [
    "nypd_copy.info()"
   ]
  },
  {
   "cell_type": "code",
   "execution_count": 10,
   "metadata": {},
   "outputs": [],
   "source": [
    "nypd_copy.drop(nypd_copy.columns[10:-3],axis=1,inplace=True)"
   ]
  },
  {
   "cell_type": "code",
   "execution_count": 11,
   "metadata": {},
   "outputs": [
    {
     "data": {
      "text/plain": [
       "(300698, 13)"
      ]
     },
     "execution_count": 11,
     "metadata": {},
     "output_type": "execute_result"
    }
   ],
   "source": [
    "nypd_copy.shape"
   ]
  },
  {
   "cell_type": "code",
   "execution_count": 13,
   "metadata": {},
   "outputs": [],
   "source": [
    "nypd_copy.dropna(inplace=True)"
   ]
  },
  {
   "cell_type": "code",
   "execution_count": 14,
   "metadata": {},
   "outputs": [
    {
     "data": {
      "text/plain": [
       "(248848, 13)"
      ]
     },
     "execution_count": 14,
     "metadata": {},
     "output_type": "execute_result"
    }
   ],
   "source": [
    "nypd_copy.shape"
   ]
  },
  {
   "cell_type": "markdown",
   "metadata": {},
   "source": [
    "## Read or convert the columns ‘Created Date’ and Closed Date’ to datetime datatype and create a new column ‘Request_Closing_Time’ as the time elapsed between request creation and request closing. (Hint: Explore the package/module datetime)\n"
   ]
  },
  {
   "cell_type": "code",
   "execution_count": 47,
   "metadata": {},
   "outputs": [],
   "source": [
    "nypd_copy['Created Date']=pd.to_datetime(nypd_copy['Created Date'])\n",
    "nypd_copy['Closed Date']=pd.to_datetime(nypd_copy['Closed Date'])\n",
    "nypd_copy['Request_Closing_Time']=(nypd_copy['Closed Date']-nypd_copy['Created Date']).astype('timedelta64[m]')\n",
    "nypd_copy['Month'] = nypd_copy['Created Date'].dt.month"
   ]
  },
  {
   "cell_type": "code",
   "execution_count": 33,
   "metadata": {},
   "outputs": [
    {
     "data": {
      "text/html": [
       "<div>\n",
       "<style scoped>\n",
       "    .dataframe tbody tr th:only-of-type {\n",
       "        vertical-align: middle;\n",
       "    }\n",
       "\n",
       "    .dataframe tbody tr th {\n",
       "        vertical-align: top;\n",
       "    }\n",
       "\n",
       "    .dataframe thead th {\n",
       "        text-align: right;\n",
       "    }\n",
       "</style>\n",
       "<table border=\"1\" class=\"dataframe\">\n",
       "  <thead>\n",
       "    <tr style=\"text-align: right;\">\n",
       "      <th></th>\n",
       "      <th>Unique Key</th>\n",
       "      <th>Created Date</th>\n",
       "      <th>Closed Date</th>\n",
       "      <th>Agency</th>\n",
       "      <th>Agency Name</th>\n",
       "      <th>Complaint Type</th>\n",
       "      <th>Descriptor</th>\n",
       "      <th>Location Type</th>\n",
       "      <th>Incident Zip</th>\n",
       "      <th>Incident Address</th>\n",
       "      <th>Latitude</th>\n",
       "      <th>Longitude</th>\n",
       "      <th>Location</th>\n",
       "      <th>Request_Closing_Time</th>\n",
       "      <th>Month</th>\n",
       "    </tr>\n",
       "  </thead>\n",
       "  <tbody>\n",
       "    <tr>\n",
       "      <th>0</th>\n",
       "      <td>32310363</td>\n",
       "      <td>2015-12-31 23:59:45</td>\n",
       "      <td>2016-01-01 00:55:00</td>\n",
       "      <td>NYPD</td>\n",
       "      <td>New York City Police Department</td>\n",
       "      <td>Noise - Street/Sidewalk</td>\n",
       "      <td>Loud Music/Party</td>\n",
       "      <td>Street/Sidewalk</td>\n",
       "      <td>10034.0</td>\n",
       "      <td>71 VERMILYEA AVENUE</td>\n",
       "      <td>40.865682</td>\n",
       "      <td>-73.923501</td>\n",
       "      <td>(40.86568153633767, -73.92350095571744)</td>\n",
       "      <td>55.0</td>\n",
       "      <td>12</td>\n",
       "    </tr>\n",
       "    <tr>\n",
       "      <th>1</th>\n",
       "      <td>32309934</td>\n",
       "      <td>2015-12-31 23:59:44</td>\n",
       "      <td>2016-01-01 01:26:00</td>\n",
       "      <td>NYPD</td>\n",
       "      <td>New York City Police Department</td>\n",
       "      <td>Blocked Driveway</td>\n",
       "      <td>No Access</td>\n",
       "      <td>Street/Sidewalk</td>\n",
       "      <td>11105.0</td>\n",
       "      <td>27-07 23 AVENUE</td>\n",
       "      <td>40.775945</td>\n",
       "      <td>-73.915094</td>\n",
       "      <td>(40.775945312321085, -73.91509393898605)</td>\n",
       "      <td>86.0</td>\n",
       "      <td>12</td>\n",
       "    </tr>\n",
       "    <tr>\n",
       "      <th>2</th>\n",
       "      <td>32309159</td>\n",
       "      <td>2015-12-31 23:59:29</td>\n",
       "      <td>2016-01-01 04:51:00</td>\n",
       "      <td>NYPD</td>\n",
       "      <td>New York City Police Department</td>\n",
       "      <td>Blocked Driveway</td>\n",
       "      <td>No Access</td>\n",
       "      <td>Street/Sidewalk</td>\n",
       "      <td>10458.0</td>\n",
       "      <td>2897 VALENTINE AVENUE</td>\n",
       "      <td>40.870325</td>\n",
       "      <td>-73.888525</td>\n",
       "      <td>(40.870324522111424, -73.88852464418646)</td>\n",
       "      <td>291.0</td>\n",
       "      <td>12</td>\n",
       "    </tr>\n",
       "    <tr>\n",
       "      <th>3</th>\n",
       "      <td>32305098</td>\n",
       "      <td>2015-12-31 23:57:46</td>\n",
       "      <td>2016-01-01 07:43:00</td>\n",
       "      <td>NYPD</td>\n",
       "      <td>New York City Police Department</td>\n",
       "      <td>Illegal Parking</td>\n",
       "      <td>Commercial Overnight Parking</td>\n",
       "      <td>Street/Sidewalk</td>\n",
       "      <td>10461.0</td>\n",
       "      <td>2940 BAISLEY AVENUE</td>\n",
       "      <td>40.835994</td>\n",
       "      <td>-73.828379</td>\n",
       "      <td>(40.83599404683083, -73.82837939584206)</td>\n",
       "      <td>465.0</td>\n",
       "      <td>12</td>\n",
       "    </tr>\n",
       "    <tr>\n",
       "      <th>4</th>\n",
       "      <td>32306529</td>\n",
       "      <td>2015-12-31 23:56:58</td>\n",
       "      <td>2016-01-01 03:24:00</td>\n",
       "      <td>NYPD</td>\n",
       "      <td>New York City Police Department</td>\n",
       "      <td>Illegal Parking</td>\n",
       "      <td>Blocked Sidewalk</td>\n",
       "      <td>Street/Sidewalk</td>\n",
       "      <td>11373.0</td>\n",
       "      <td>87-14 57 ROAD</td>\n",
       "      <td>40.733060</td>\n",
       "      <td>-73.874170</td>\n",
       "      <td>(40.733059618956815, -73.87416975810375)</td>\n",
       "      <td>207.0</td>\n",
       "      <td>12</td>\n",
       "    </tr>\n",
       "    <tr>\n",
       "      <th>...</th>\n",
       "      <td>...</td>\n",
       "      <td>...</td>\n",
       "      <td>...</td>\n",
       "      <td>...</td>\n",
       "      <td>...</td>\n",
       "      <td>...</td>\n",
       "      <td>...</td>\n",
       "      <td>...</td>\n",
       "      <td>...</td>\n",
       "      <td>...</td>\n",
       "      <td>...</td>\n",
       "      <td>...</td>\n",
       "      <td>...</td>\n",
       "      <td>...</td>\n",
       "      <td>...</td>\n",
       "    </tr>\n",
       "    <tr>\n",
       "      <th>300692</th>\n",
       "      <td>30281370</td>\n",
       "      <td>2015-03-29 00:34:32</td>\n",
       "      <td>2015-03-29 01:13:01</td>\n",
       "      <td>NYPD</td>\n",
       "      <td>New York City Police Department</td>\n",
       "      <td>Noise - Commercial</td>\n",
       "      <td>Loud Music/Party</td>\n",
       "      <td>Store/Commercial</td>\n",
       "      <td>10002.0</td>\n",
       "      <td>81 HESTER STREET</td>\n",
       "      <td>40.716053</td>\n",
       "      <td>-73.991378</td>\n",
       "      <td>(40.71605290789855, -73.99137850370803)</td>\n",
       "      <td>38.0</td>\n",
       "      <td>3</td>\n",
       "    </tr>\n",
       "    <tr>\n",
       "      <th>300694</th>\n",
       "      <td>30281230</td>\n",
       "      <td>2015-03-29 00:33:28</td>\n",
       "      <td>2015-03-29 02:33:59</td>\n",
       "      <td>NYPD</td>\n",
       "      <td>New York City Police Department</td>\n",
       "      <td>Blocked Driveway</td>\n",
       "      <td>Partial Access</td>\n",
       "      <td>Street/Sidewalk</td>\n",
       "      <td>11418.0</td>\n",
       "      <td>100-17 87 AVENUE</td>\n",
       "      <td>40.694077</td>\n",
       "      <td>-73.846087</td>\n",
       "      <td>(40.69407728322387, -73.8460866160573)</td>\n",
       "      <td>120.0</td>\n",
       "      <td>3</td>\n",
       "    </tr>\n",
       "    <tr>\n",
       "      <th>300695</th>\n",
       "      <td>30283424</td>\n",
       "      <td>2015-03-29 00:33:03</td>\n",
       "      <td>2015-03-29 03:40:20</td>\n",
       "      <td>NYPD</td>\n",
       "      <td>New York City Police Department</td>\n",
       "      <td>Noise - Commercial</td>\n",
       "      <td>Loud Music/Party</td>\n",
       "      <td>Club/Bar/Restaurant</td>\n",
       "      <td>11206.0</td>\n",
       "      <td>162 THROOP AVENUE</td>\n",
       "      <td>40.699590</td>\n",
       "      <td>-73.944234</td>\n",
       "      <td>(40.69959035300927, -73.94423377144169)</td>\n",
       "      <td>187.0</td>\n",
       "      <td>3</td>\n",
       "    </tr>\n",
       "    <tr>\n",
       "      <th>300696</th>\n",
       "      <td>30280004</td>\n",
       "      <td>2015-03-29 00:33:02</td>\n",
       "      <td>2015-03-29 04:38:35</td>\n",
       "      <td>NYPD</td>\n",
       "      <td>New York City Police Department</td>\n",
       "      <td>Noise - Commercial</td>\n",
       "      <td>Loud Music/Party</td>\n",
       "      <td>Club/Bar/Restaurant</td>\n",
       "      <td>10461.0</td>\n",
       "      <td>3151 EAST TREMONT AVENUE</td>\n",
       "      <td>40.837708</td>\n",
       "      <td>-73.834587</td>\n",
       "      <td>(40.8377075854206, -73.83458731019586)</td>\n",
       "      <td>245.0</td>\n",
       "      <td>3</td>\n",
       "    </tr>\n",
       "    <tr>\n",
       "      <th>300697</th>\n",
       "      <td>30281825</td>\n",
       "      <td>2015-03-29 00:33:01</td>\n",
       "      <td>2015-03-29 04:41:50</td>\n",
       "      <td>NYPD</td>\n",
       "      <td>New York City Police Department</td>\n",
       "      <td>Noise - Commercial</td>\n",
       "      <td>Loud Music/Party</td>\n",
       "      <td>Store/Commercial</td>\n",
       "      <td>10036.0</td>\n",
       "      <td>251 WEST 48 STREET</td>\n",
       "      <td>40.760583</td>\n",
       "      <td>-73.985922</td>\n",
       "      <td>(40.76058322950115, -73.98592204392392)</td>\n",
       "      <td>248.0</td>\n",
       "      <td>3</td>\n",
       "    </tr>\n",
       "  </tbody>\n",
       "</table>\n",
       "<p>248848 rows × 15 columns</p>\n",
       "</div>"
      ],
      "text/plain": [
       "        Unique Key        Created Date         Closed Date Agency  \\\n",
       "0         32310363 2015-12-31 23:59:45 2016-01-01 00:55:00   NYPD   \n",
       "1         32309934 2015-12-31 23:59:44 2016-01-01 01:26:00   NYPD   \n",
       "2         32309159 2015-12-31 23:59:29 2016-01-01 04:51:00   NYPD   \n",
       "3         32305098 2015-12-31 23:57:46 2016-01-01 07:43:00   NYPD   \n",
       "4         32306529 2015-12-31 23:56:58 2016-01-01 03:24:00   NYPD   \n",
       "...            ...                 ...                 ...    ...   \n",
       "300692    30281370 2015-03-29 00:34:32 2015-03-29 01:13:01   NYPD   \n",
       "300694    30281230 2015-03-29 00:33:28 2015-03-29 02:33:59   NYPD   \n",
       "300695    30283424 2015-03-29 00:33:03 2015-03-29 03:40:20   NYPD   \n",
       "300696    30280004 2015-03-29 00:33:02 2015-03-29 04:38:35   NYPD   \n",
       "300697    30281825 2015-03-29 00:33:01 2015-03-29 04:41:50   NYPD   \n",
       "\n",
       "                            Agency Name           Complaint Type  \\\n",
       "0       New York City Police Department  Noise - Street/Sidewalk   \n",
       "1       New York City Police Department         Blocked Driveway   \n",
       "2       New York City Police Department         Blocked Driveway   \n",
       "3       New York City Police Department          Illegal Parking   \n",
       "4       New York City Police Department          Illegal Parking   \n",
       "...                                 ...                      ...   \n",
       "300692  New York City Police Department       Noise - Commercial   \n",
       "300694  New York City Police Department         Blocked Driveway   \n",
       "300695  New York City Police Department       Noise - Commercial   \n",
       "300696  New York City Police Department       Noise - Commercial   \n",
       "300697  New York City Police Department       Noise - Commercial   \n",
       "\n",
       "                          Descriptor        Location Type  Incident Zip  \\\n",
       "0                   Loud Music/Party      Street/Sidewalk       10034.0   \n",
       "1                          No Access      Street/Sidewalk       11105.0   \n",
       "2                          No Access      Street/Sidewalk       10458.0   \n",
       "3       Commercial Overnight Parking      Street/Sidewalk       10461.0   \n",
       "4                   Blocked Sidewalk      Street/Sidewalk       11373.0   \n",
       "...                              ...                  ...           ...   \n",
       "300692              Loud Music/Party     Store/Commercial       10002.0   \n",
       "300694                Partial Access      Street/Sidewalk       11418.0   \n",
       "300695              Loud Music/Party  Club/Bar/Restaurant       11206.0   \n",
       "300696              Loud Music/Party  Club/Bar/Restaurant       10461.0   \n",
       "300697              Loud Music/Party     Store/Commercial       10036.0   \n",
       "\n",
       "                Incident Address   Latitude  Longitude  \\\n",
       "0            71 VERMILYEA AVENUE  40.865682 -73.923501   \n",
       "1                27-07 23 AVENUE  40.775945 -73.915094   \n",
       "2          2897 VALENTINE AVENUE  40.870325 -73.888525   \n",
       "3            2940 BAISLEY AVENUE  40.835994 -73.828379   \n",
       "4                  87-14 57 ROAD  40.733060 -73.874170   \n",
       "...                          ...        ...        ...   \n",
       "300692          81 HESTER STREET  40.716053 -73.991378   \n",
       "300694          100-17 87 AVENUE  40.694077 -73.846087   \n",
       "300695         162 THROOP AVENUE  40.699590 -73.944234   \n",
       "300696  3151 EAST TREMONT AVENUE  40.837708 -73.834587   \n",
       "300697        251 WEST 48 STREET  40.760583 -73.985922   \n",
       "\n",
       "                                        Location  Request_Closing_Time  Month  \n",
       "0        (40.86568153633767, -73.92350095571744)                  55.0     12  \n",
       "1       (40.775945312321085, -73.91509393898605)                  86.0     12  \n",
       "2       (40.870324522111424, -73.88852464418646)                 291.0     12  \n",
       "3        (40.83599404683083, -73.82837939584206)                 465.0     12  \n",
       "4       (40.733059618956815, -73.87416975810375)                 207.0     12  \n",
       "...                                          ...                   ...    ...  \n",
       "300692   (40.71605290789855, -73.99137850370803)                  38.0      3  \n",
       "300694    (40.69407728322387, -73.8460866160573)                 120.0      3  \n",
       "300695   (40.69959035300927, -73.94423377144169)                 187.0      3  \n",
       "300696    (40.8377075854206, -73.83458731019586)                 245.0      3  \n",
       "300697   (40.76058322950115, -73.98592204392392)                 248.0      3  \n",
       "\n",
       "[248848 rows x 15 columns]"
      ]
     },
     "execution_count": 33,
     "metadata": {},
     "output_type": "execute_result"
    }
   ],
   "source": [
    "nypd_copy"
   ]
  },
  {
   "cell_type": "markdown",
   "metadata": {},
   "source": [
    "# Solution2 Observation1"
   ]
  },
  {
   "cell_type": "code",
   "execution_count": 21,
   "metadata": {},
   "outputs": [
    {
     "data": {
      "image/png": "[encoded data removed]",
      "text/plain": [
       "<Figure size 864x576 with 1 Axes>"
      ]
     },
     "metadata": {
      "needs_background": "light"
     },
     "output_type": "display_data"
    }
   ],
   "source": [
    "ax = plt.subplot()\n",
    "nypd_copy.groupby('Complaint Type')['Request_Closing_Time'].mean().plot(kind='bar',\n",
    "                                                        figsize=(12,8),\n",
    "                                                        ax=ax)"
   ]
  },
  {
   "cell_type": "code",
   "execution_count": 49,
   "metadata": {},
   "outputs": [
    {
     "data": {
      "text/plain": [
       "Complaint Type\n",
       "Animal Abuse                321.657499\n",
       "Blocked Driveway            284.096237\n",
       "Derelict Vehicle            433.390360\n",
       "Disorderly Youth            217.075269\n",
       "Drinking                    230.163690\n",
       "Graffiti                    351.810526\n",
       "Illegal Parking             268.250286\n",
       "Noise - Commercial          187.472970\n",
       "Noise - House of Worship    197.902299\n",
       "Noise - Park                209.650394\n",
       "Noise - Street/Sidewalk     208.555170\n",
       "Noise - Vehicle             221.685964\n",
       "Posting Advertisement       111.748792\n",
       "Traffic                     234.766050\n",
       "Vending                     238.206600\n",
       "Name: Request_Closing_Time, dtype: float64"
      ]
     },
     "execution_count": 49,
     "metadata": {},
     "output_type": "execute_result"
    }
   ],
   "source": [
    "nypd_copy.groupby('Complaint Type')['Request_Closing_Time'].mean()"
   ]
  },
  {
   "cell_type": "markdown",
   "metadata": {},
   "source": [
    "Highest average response time is for Complaint type Derelict vehicles: 433"
   ]
  },
  {
   "cell_type": "markdown",
   "metadata": {},
   "source": [
    "# Solution2 Observation2"
   ]
  },
  {
   "cell_type": "code",
   "execution_count": 42,
   "metadata": {
    "scrolled": true
   },
   "outputs": [
    {
     "data": {
      "text/plain": [
       "<matplotlib.axes._subplots.AxesSubplot at 0x1e803feb248>"
      ]
     },
     "execution_count": 42,
     "metadata": {},
     "output_type": "execute_result"
    },
    {
     "data": {
      "image/png": "[encoded data removed]",
      "text/plain": [
       "<Figure size 864x576 with 1 Axes>"
      ]
     },
     "metadata": {
      "needs_background": "light"
     },
     "output_type": "display_data"
    }
   ],
   "source": [
    "ax = plt.subplot()\n",
    "nypd_copy.groupby('Location Type')['Request_Closing_Time'].mean().plot(kind='bar',\n",
    "                                                        figsize=(12,8),\n",
    "                                                        ax=ax)"
   ]
  },
  {
   "cell_type": "code",
   "execution_count": 29,
   "metadata": {},
   "outputs": [
    {
     "data": {
      "text/plain": [
       "984.75"
      ]
     },
     "execution_count": 29,
     "metadata": {},
     "output_type": "execute_result"
    }
   ],
   "source": [
    "nypd_copy.groupby('Location Type')['Request_Closing_Time'].mean().max()"
   ]
  },
  {
   "cell_type": "markdown",
   "metadata": {},
   "source": [
    "Highest average response time is for location type Roadway Tunnel: 984"
   ]
  },
  {
   "cell_type": "markdown",
   "metadata": {},
   "source": [
    "# Solution2 Observation3"
   ]
  },
  {
   "cell_type": "code",
   "execution_count": 40,
   "metadata": {
    "scrolled": true
   },
   "outputs": [
    {
     "data": {
      "text/plain": [
       "<matplotlib.axes._subplots.AxesSubplot at 0x1e803faa348>"
      ]
     },
     "execution_count": 40,
     "metadata": {},
     "output_type": "execute_result"
    },
    {
     "data": {
      "image/png": "[encoded data removed]",
      "text/plain": [
       "<Figure size 864x576 with 1 Axes>"
      ]
     },
     "metadata": {
      "needs_background": "light"
     },
     "output_type": "display_data"
    }
   ],
   "source": [
    "ax = plt.subplot()\n",
    "nypd_copy.groupby('Descriptor')['Request_Closing_Time'].count().plot(kind='bar',\n",
    "                                                        figsize=(12,8),\n",
    "                                                        ax=ax)"
   ]
  },
  {
   "cell_type": "code",
   "execution_count": 39,
   "metadata": {},
   "outputs": [
    {
     "data": {
      "text/plain": [
       "55708"
      ]
     },
     "execution_count": 39,
     "metadata": {},
     "output_type": "execute_result"
    }
   ],
   "source": [
    "nypd_copy.groupby('Descriptor')['Request_Closing_Time'].count().max()"
   ]
  },
  {
   "cell_type": "markdown",
   "metadata": {},
   "source": [
    "Highest count of complaints is for 'No Access': 55708"
   ]
  },
  {
   "cell_type": "markdown",
   "metadata": {},
   "source": [
    "# Solution2 Observation4"
   ]
  },
  {
   "cell_type": "code",
   "execution_count": 36,
   "metadata": {},
   "outputs": [
    {
     "data": {
      "text/plain": [
       "<matplotlib.axes._subplots.AxesSubplot at 0x1e803c97cc8>"
      ]
     },
     "execution_count": 36,
     "metadata": {},
     "output_type": "execute_result"
    },
    {
     "data": {
      "image/png": "[encoded data removed]",
      "text/plain": [
       "<Figure size 1728x1152 with 1 Axes>"
      ]
     },
     "metadata": {
      "needs_background": "light"
     },
     "output_type": "display_data"
    }
   ],
   "source": [
    "ax = plt.subplot()\n",
    "nypd_copy.groupby('Month')['Request_Closing_Time'].count().plot(kind='bar',\n",
    "                                                        figsize=(24,16),\n",
    "                                                        ax=ax)"
   ]
  },
  {
   "cell_type": "code",
   "execution_count": 38,
   "metadata": {},
   "outputs": [
    {
     "data": {
      "text/plain": [
       "29437"
      ]
     },
     "execution_count": 38,
     "metadata": {},
     "output_type": "execute_result"
    }
   ],
   "source": [
    "nypd_copy.groupby('Month')['Request_Closing_Time'].count().max()"
   ]
  },
  {
   "cell_type": "markdown",
   "metadata": {},
   "source": [
    "Highest count of complaints are in the month of May: 29437"
   ]
  },
  {
   "cell_type": "markdown",
   "metadata": {},
   "source": [
    "## Order the complaint types based on the average ‘Request_Closing_Time’, grouping them for different locations."
   ]
  },
  {
   "cell_type": "code",
   "execution_count": 52,
   "metadata": {},
   "outputs": [],
   "source": [
    "nypd_loacation_complaintType= nypd_copy.groupby(['Location','Complaint Type']).agg({'Request_Closing_Time': 'mean'})"
   ]
  },
  {
   "cell_type": "code",
   "execution_count": 56,
   "metadata": {},
   "outputs": [
    {
     "data": {
      "text/html": [
       "<div>\n",
       "<style scoped>\n",
       "    .dataframe tbody tr th:only-of-type {\n",
       "        vertical-align: middle;\n",
       "    }\n",
       "\n",
       "    .dataframe tbody tr th {\n",
       "        vertical-align: top;\n",
       "    }\n",
       "\n",
       "    .dataframe thead th {\n",
       "        text-align: right;\n",
       "    }\n",
       "</style>\n",
       "<table border=\"1\" class=\"dataframe\">\n",
       "  <thead>\n",
       "    <tr style=\"text-align: right;\">\n",
       "      <th></th>\n",
       "      <th></th>\n",
       "      <th>Request_Closing_Time</th>\n",
       "    </tr>\n",
       "    <tr>\n",
       "      <th>Location</th>\n",
       "      <th>Complaint Type</th>\n",
       "      <th></th>\n",
       "    </tr>\n",
       "  </thead>\n",
       "  <tbody>\n",
       "    <tr>\n",
       "      <th>(40.678429539269835, -73.98361397723242)</th>\n",
       "      <th>Noise - Commercial</th>\n",
       "      <td>2.000000</td>\n",
       "    </tr>\n",
       "    <tr>\n",
       "      <th>(40.69371028050496, -73.95499211670034)</th>\n",
       "      <th>Illegal Parking</th>\n",
       "      <td>2.000000</td>\n",
       "    </tr>\n",
       "    <tr>\n",
       "      <th>(40.71598512070559, -73.9509008064274)</th>\n",
       "      <th>Illegal Parking</th>\n",
       "      <td>2.000000</td>\n",
       "    </tr>\n",
       "    <tr>\n",
       "      <th>(40.76848580086362, -73.91235250532725)</th>\n",
       "      <th>Noise - Vehicle</th>\n",
       "      <td>2.000000</td>\n",
       "    </tr>\n",
       "    <tr>\n",
       "      <th>(40.510211690922475, -74.24398548733994)</th>\n",
       "      <th>Illegal Parking</th>\n",
       "      <td>3.000000</td>\n",
       "    </tr>\n",
       "    <tr>\n",
       "      <th>...</th>\n",
       "      <th>...</th>\n",
       "      <td>...</td>\n",
       "    </tr>\n",
       "    <tr>\n",
       "      <th>(40.68349308751147, -73.73091308242111)</th>\n",
       "      <th>Derelict Vehicle</th>\n",
       "      <td>10146.000000</td>\n",
       "    </tr>\n",
       "    <tr>\n",
       "      <th>(40.6449662497121, -73.99499837340035)</th>\n",
       "      <th>Animal Abuse</th>\n",
       "      <td>10485.333333</td>\n",
       "    </tr>\n",
       "    <tr>\n",
       "      <th>(40.65367609466097, -73.95792751148433)</th>\n",
       "      <th>Derelict Vehicle</th>\n",
       "      <td>11556.000000</td>\n",
       "    </tr>\n",
       "    <tr>\n",
       "      <th>(40.64466438582295, -73.95635848114169)</th>\n",
       "      <th>Derelict Vehicle</th>\n",
       "      <td>13401.000000</td>\n",
       "    </tr>\n",
       "    <tr>\n",
       "      <th>(40.59814521498835, -73.98935198928409)</th>\n",
       "      <th>Illegal Parking</th>\n",
       "      <td>34641.000000</td>\n",
       "    </tr>\n",
       "  </tbody>\n",
       "</table>\n",
       "<p>124103 rows × 1 columns</p>\n",
       "</div>"
      ],
      "text/plain": [
       "                                                             Request_Closing_Time\n",
       "Location                                 Complaint Type                          \n",
       "(40.678429539269835, -73.98361397723242) Noise - Commercial              2.000000\n",
       "(40.69371028050496, -73.95499211670034)  Illegal Parking                 2.000000\n",
       "(40.71598512070559, -73.9509008064274)   Illegal Parking                 2.000000\n",
       "(40.76848580086362, -73.91235250532725)  Noise - Vehicle                 2.000000\n",
       "(40.510211690922475, -74.24398548733994) Illegal Parking                 3.000000\n",
       "...                                                                           ...\n",
       "(40.68349308751147, -73.73091308242111)  Derelict Vehicle            10146.000000\n",
       "(40.6449662497121, -73.99499837340035)   Animal Abuse                10485.333333\n",
       "(40.65367609466097, -73.95792751148433)  Derelict Vehicle            11556.000000\n",
       "(40.64466438582295, -73.95635848114169)  Derelict Vehicle            13401.000000\n",
       "(40.59814521498835, -73.98935198928409)  Illegal Parking             34641.000000\n",
       "\n",
       "[124103 rows x 1 columns]"
      ]
     },
     "execution_count": 56,
     "metadata": {},
     "output_type": "execute_result"
    }
   ],
   "source": [
    "nypd_loacation_complaintType.sort_values(['Request_Closing_Time','Location'])"
   ]
  },
  {
   "cell_type": "code",
   "execution_count": 57,
   "metadata": {},
   "outputs": [],
   "source": [
    "import scipy.stats as stats\n",
    "from math import sqrt"
   ]
  },
  {
   "cell_type": "markdown",
   "metadata": {},
   "source": [
    "## The hypothesis being tested\n",
    "\n",
    "* __Null hypothesis (H0): the average response time across complaint types is similar__\n",
    "* __Alternative hypothesis (H1): the average response time across complaint types is NOT similar__"
   ]
  },
  {
   "cell_type": "code",
   "execution_count": 59,
   "metadata": {},
   "outputs": [
    {
     "data": {
      "text/plain": [
       "Blocked Driveway            75366\n",
       "Illegal Parking             61294\n",
       "Noise - Street/Sidewalk     39451\n",
       "Noise - Commercial          32334\n",
       "Derelict Vehicle            14689\n",
       "Noise - Vehicle             12126\n",
       "Animal Abuse                 6581\n",
       "Vending                      2212\n",
       "Noise - Park                 1270\n",
       "Drinking                     1008\n",
       "Traffic                       919\n",
       "Noise - House of Worship      696\n",
       "Posting Advertisement         621\n",
       "Disorderly Youth              186\n",
       "Graffiti                       95\n",
       "Name: Complaint Type, dtype: int64"
      ]
     },
     "execution_count": 59,
     "metadata": {},
     "output_type": "execute_result"
    }
   ],
   "source": [
    "nypd_copy['Complaint Type'].value_counts()"
   ]
  },
  {
   "cell_type": "code",
   "execution_count": 61,
   "metadata": {},
   "outputs": [
    {
     "data": {
      "text/html": [
       "<div>\n",
       "<style scoped>\n",
       "    .dataframe tbody tr th:only-of-type {\n",
       "        vertical-align: middle;\n",
       "    }\n",
       "\n",
       "    .dataframe tbody tr th {\n",
       "        vertical-align: top;\n",
       "    }\n",
       "\n",
       "    .dataframe thead th {\n",
       "        text-align: right;\n",
       "    }\n",
       "</style>\n",
       "<table border=\"1\" class=\"dataframe\">\n",
       "  <thead>\n",
       "    <tr style=\"text-align: right;\">\n",
       "      <th></th>\n",
       "      <th>Complaint Type</th>\n",
       "      <th>Request_Closing_Time</th>\n",
       "    </tr>\n",
       "  </thead>\n",
       "  <tbody>\n",
       "    <tr>\n",
       "      <th>0</th>\n",
       "      <td>Noise - Street/Sidewalk</td>\n",
       "      <td>55.0</td>\n",
       "    </tr>\n",
       "    <tr>\n",
       "      <th>1</th>\n",
       "      <td>Blocked Driveway</td>\n",
       "      <td>86.0</td>\n",
       "    </tr>\n",
       "    <tr>\n",
       "      <th>2</th>\n",
       "      <td>Blocked Driveway</td>\n",
       "      <td>291.0</td>\n",
       "    </tr>\n",
       "    <tr>\n",
       "      <th>3</th>\n",
       "      <td>Illegal Parking</td>\n",
       "      <td>465.0</td>\n",
       "    </tr>\n",
       "    <tr>\n",
       "      <th>4</th>\n",
       "      <td>Illegal Parking</td>\n",
       "      <td>207.0</td>\n",
       "    </tr>\n",
       "  </tbody>\n",
       "</table>\n",
       "</div>"
      ],
      "text/plain": [
       "            Complaint Type  Request_Closing_Time\n",
       "0  Noise - Street/Sidewalk                  55.0\n",
       "1         Blocked Driveway                  86.0\n",
       "2         Blocked Driveway                 291.0\n",
       "3          Illegal Parking                 465.0\n",
       "4          Illegal Parking                 207.0"
      ]
     },
     "execution_count": 61,
     "metadata": {},
     "output_type": "execute_result"
    }
   ],
   "source": [
    "sampledata = nypd_copy[['Complaint Type','Request_Closing_Time']]\n",
    "sampledata.head()"
   ]
  },
  {
   "cell_type": "code",
   "execution_count": 64,
   "metadata": {},
   "outputs": [
    {
     "data": {
      "text/plain": [
       "Complaint Type          0\n",
       "Request_Closing_Time    0\n",
       "dtype: int64"
      ]
     },
     "execution_count": 64,
     "metadata": {},
     "output_type": "execute_result"
    }
   ],
   "source": [
    "sampledata.isna().sum()"
   ]
  },
  {
   "cell_type": "code",
   "execution_count": 67,
   "metadata": {},
   "outputs": [
    {
     "data": {
      "text/html": [
       "<div>\n",
       "<style scoped>\n",
       "    .dataframe tbody tr th:only-of-type {\n",
       "        vertical-align: middle;\n",
       "    }\n",
       "\n",
       "    .dataframe tbody tr th {\n",
       "        vertical-align: top;\n",
       "    }\n",
       "\n",
       "    .dataframe thead th {\n",
       "        text-align: right;\n",
       "    }\n",
       "</style>\n",
       "<table border=\"1\" class=\"dataframe\">\n",
       "  <thead>\n",
       "    <tr style=\"text-align: right;\">\n",
       "      <th>Complaint Type</th>\n",
       "      <th>Animal Abuse</th>\n",
       "      <th>Blocked Driveway</th>\n",
       "      <th>Derelict Vehicle</th>\n",
       "      <th>Disorderly Youth</th>\n",
       "      <th>Drinking</th>\n",
       "      <th>Graffiti</th>\n",
       "      <th>Illegal Parking</th>\n",
       "      <th>Noise - Commercial</th>\n",
       "      <th>Noise - House of Worship</th>\n",
       "      <th>Noise - Park</th>\n",
       "      <th>Noise - Street/Sidewalk</th>\n",
       "      <th>Noise - Vehicle</th>\n",
       "      <th>Posting Advertisement</th>\n",
       "      <th>Traffic</th>\n",
       "      <th>Vending</th>\n",
       "    </tr>\n",
       "  </thead>\n",
       "  <tbody>\n",
       "    <tr>\n",
       "      <th>count</th>\n",
       "      <td>6581.000000</td>\n",
       "      <td>75366.000000</td>\n",
       "      <td>14689.000000</td>\n",
       "      <td>186.000000</td>\n",
       "      <td>1008.000000</td>\n",
       "      <td>95.000000</td>\n",
       "      <td>61294.000000</td>\n",
       "      <td>32334.00000</td>\n",
       "      <td>696.000000</td>\n",
       "      <td>1270.000000</td>\n",
       "      <td>39451.000000</td>\n",
       "      <td>12126.000000</td>\n",
       "      <td>621.000000</td>\n",
       "      <td>919.000000</td>\n",
       "      <td>2212.000000</td>\n",
       "    </tr>\n",
       "    <tr>\n",
       "      <th>mean</th>\n",
       "      <td>321.657499</td>\n",
       "      <td>284.096237</td>\n",
       "      <td>433.390360</td>\n",
       "      <td>217.075269</td>\n",
       "      <td>230.163690</td>\n",
       "      <td>351.810526</td>\n",
       "      <td>268.250286</td>\n",
       "      <td>187.47297</td>\n",
       "      <td>197.902299</td>\n",
       "      <td>209.650394</td>\n",
       "      <td>208.555170</td>\n",
       "      <td>221.685964</td>\n",
       "      <td>111.748792</td>\n",
       "      <td>234.766050</td>\n",
       "      <td>238.206600</td>\n",
       "    </tr>\n",
       "    <tr>\n",
       "      <th>std</th>\n",
       "      <td>542.620315</td>\n",
       "      <td>334.974111</td>\n",
       "      <td>639.775973</td>\n",
       "      <td>224.736301</td>\n",
       "      <td>317.060966</td>\n",
       "      <td>330.061061</td>\n",
       "      <td>357.289973</td>\n",
       "      <td>244.08687</td>\n",
       "      <td>284.104625</td>\n",
       "      <td>274.272064</td>\n",
       "      <td>287.567441</td>\n",
       "      <td>283.405559</td>\n",
       "      <td>129.990414</td>\n",
       "      <td>270.421584</td>\n",
       "      <td>276.010758</td>\n",
       "    </tr>\n",
       "    <tr>\n",
       "      <th>min</th>\n",
       "      <td>3.000000</td>\n",
       "      <td>2.000000</td>\n",
       "      <td>3.000000</td>\n",
       "      <td>6.000000</td>\n",
       "      <td>4.000000</td>\n",
       "      <td>9.000000</td>\n",
       "      <td>2.000000</td>\n",
       "      <td>1.00000</td>\n",
       "      <td>4.000000</td>\n",
       "      <td>4.000000</td>\n",
       "      <td>2.000000</td>\n",
       "      <td>2.000000</td>\n",
       "      <td>2.000000</td>\n",
       "      <td>6.000000</td>\n",
       "      <td>3.000000</td>\n",
       "    </tr>\n",
       "    <tr>\n",
       "      <th>25%</th>\n",
       "      <td>101.000000</td>\n",
       "      <td>96.000000</td>\n",
       "      <td>101.000000</td>\n",
       "      <td>86.250000</td>\n",
       "      <td>70.750000</td>\n",
       "      <td>129.500000</td>\n",
       "      <td>84.000000</td>\n",
       "      <td>57.00000</td>\n",
       "      <td>48.750000</td>\n",
       "      <td>64.000000</td>\n",
       "      <td>62.000000</td>\n",
       "      <td>68.000000</td>\n",
       "      <td>29.000000</td>\n",
       "      <td>57.000000</td>\n",
       "      <td>72.000000</td>\n",
       "    </tr>\n",
       "    <tr>\n",
       "      <th>50%</th>\n",
       "      <td>203.000000</td>\n",
       "      <td>190.000000</td>\n",
       "      <td>241.000000</td>\n",
       "      <td>157.000000</td>\n",
       "      <td>152.500000</td>\n",
       "      <td>260.000000</td>\n",
       "      <td>176.000000</td>\n",
       "      <td>124.00000</td>\n",
       "      <td>110.000000</td>\n",
       "      <td>128.000000</td>\n",
       "      <td>134.000000</td>\n",
       "      <td>144.000000</td>\n",
       "      <td>63.000000</td>\n",
       "      <td>145.000000</td>\n",
       "      <td>154.000000</td>\n",
       "    </tr>\n",
       "    <tr>\n",
       "      <th>75%</th>\n",
       "      <td>395.000000</td>\n",
       "      <td>357.000000</td>\n",
       "      <td>507.000000</td>\n",
       "      <td>281.750000</td>\n",
       "      <td>294.250000</td>\n",
       "      <td>436.500000</td>\n",
       "      <td>342.000000</td>\n",
       "      <td>239.00000</td>\n",
       "      <td>234.250000</td>\n",
       "      <td>266.000000</td>\n",
       "      <td>262.000000</td>\n",
       "      <td>276.000000</td>\n",
       "      <td>143.000000</td>\n",
       "      <td>316.000000</td>\n",
       "      <td>306.000000</td>\n",
       "    </tr>\n",
       "    <tr>\n",
       "      <th>max</th>\n",
       "      <td>31156.000000</td>\n",
       "      <td>8897.000000</td>\n",
       "      <td>13401.000000</td>\n",
       "      <td>1683.000000</td>\n",
       "      <td>5686.000000</td>\n",
       "      <td>1594.000000</td>\n",
       "      <td>34641.000000</td>\n",
       "      <td>7584.00000</td>\n",
       "      <td>2946.000000</td>\n",
       "      <td>3461.000000</td>\n",
       "      <td>8843.000000</td>\n",
       "      <td>8847.000000</td>\n",
       "      <td>934.000000</td>\n",
       "      <td>2366.000000</td>\n",
       "      <td>3862.000000</td>\n",
       "    </tr>\n",
       "  </tbody>\n",
       "</table>\n",
       "</div>"
      ],
      "text/plain": [
       "Complaint Type  Animal Abuse  Blocked Driveway  Derelict Vehicle  \\\n",
       "count            6581.000000      75366.000000      14689.000000   \n",
       "mean              321.657499        284.096237        433.390360   \n",
       "std               542.620315        334.974111        639.775973   \n",
       "min                 3.000000          2.000000          3.000000   \n",
       "25%               101.000000         96.000000        101.000000   \n",
       "50%               203.000000        190.000000        241.000000   \n",
       "75%               395.000000        357.000000        507.000000   \n",
       "max             31156.000000       8897.000000      13401.000000   \n",
       "\n",
       "Complaint Type  Disorderly Youth     Drinking     Graffiti  Illegal Parking  \\\n",
       "count                 186.000000  1008.000000    95.000000     61294.000000   \n",
       "mean                  217.075269   230.163690   351.810526       268.250286   \n",
       "std                   224.736301   317.060966   330.061061       357.289973   \n",
       "min                     6.000000     4.000000     9.000000         2.000000   \n",
       "25%                    86.250000    70.750000   129.500000        84.000000   \n",
       "50%                   157.000000   152.500000   260.000000       176.000000   \n",
       "75%                   281.750000   294.250000   436.500000       342.000000   \n",
       "max                  1683.000000  5686.000000  1594.000000     34641.000000   \n",
       "\n",
       "Complaint Type  Noise - Commercial  Noise - House of Worship  Noise - Park  \\\n",
       "count                  32334.00000                696.000000   1270.000000   \n",
       "mean                     187.47297                197.902299    209.650394   \n",
       "std                      244.08687                284.104625    274.272064   \n",
       "min                        1.00000                  4.000000      4.000000   \n",
       "25%                       57.00000                 48.750000     64.000000   \n",
       "50%                      124.00000                110.000000    128.000000   \n",
       "75%                      239.00000                234.250000    266.000000   \n",
       "max                     7584.00000               2946.000000   3461.000000   \n",
       "\n",
       "Complaint Type  Noise - Street/Sidewalk  Noise - Vehicle  \\\n",
       "count                      39451.000000     12126.000000   \n",
       "mean                         208.555170       221.685964   \n",
       "std                          287.567441       283.405559   \n",
       "min                            2.000000         2.000000   \n",
       "25%                           62.000000        68.000000   \n",
       "50%                          134.000000       144.000000   \n",
       "75%                          262.000000       276.000000   \n",
       "max                         8843.000000      8847.000000   \n",
       "\n",
       "Complaint Type  Posting Advertisement      Traffic      Vending  \n",
       "count                      621.000000   919.000000  2212.000000  \n",
       "mean                       111.748792   234.766050   238.206600  \n",
       "std                        129.990414   270.421584   276.010758  \n",
       "min                          2.000000     6.000000     3.000000  \n",
       "25%                         29.000000    57.000000    72.000000  \n",
       "50%                         63.000000   145.000000   154.000000  \n",
       "75%                        143.000000   316.000000   306.000000  \n",
       "max                        934.000000  2366.000000  3862.000000  "
      ]
     },
     "execution_count": 67,
     "metadata": {},
     "output_type": "execute_result"
    }
   ],
   "source": [
    "sampledata.groupby('Complaint Type')['Request_Closing_Time'].describe().T"
   ]
  },
  {
   "cell_type": "code",
   "execution_count": 68,
   "metadata": {},
   "outputs": [
    {
     "name": "stderr",
     "output_type": "stream",
     "text": [
      "c:\\users\\aditya\\appdata\\local\\programs\\python\\python37\\lib\\site-packages\\ipykernel_launcher.py:1: SettingWithCopyWarning: \n",
      "A value is trying to be set on a copy of a slice from a DataFrame.\n",
      "Try using .loc[row_indexer,col_indexer] = value instead\n",
      "\n",
      "See the caveats in the documentation: https://pandas.pydata.org/pandas-docs/stable/user_guide/indexing.html#returning-a-view-versus-a-copy\n",
      "  \"\"\"Entry point for launching an IPython kernel.\n"
     ]
    }
   ],
   "source": [
    "sampledata['Complaint Type'] = pd.Categorical(sampledata['Complaint Type'])"
   ]
  },
  {
   "cell_type": "code",
   "execution_count": 69,
   "metadata": {},
   "outputs": [
    {
     "name": "stderr",
     "output_type": "stream",
     "text": [
      "c:\\users\\aditya\\appdata\\local\\programs\\python\\python37\\lib\\site-packages\\ipykernel_launcher.py:1: SettingWithCopyWarning: \n",
      "A value is trying to be set on a copy of a slice from a DataFrame.\n",
      "Try using .loc[row_indexer,col_indexer] = value instead\n",
      "\n",
      "See the caveats in the documentation: https://pandas.pydata.org/pandas-docs/stable/user_guide/indexing.html#returning-a-view-versus-a-copy\n",
      "  \"\"\"Entry point for launching an IPython kernel.\n"
     ]
    }
   ],
   "source": [
    "sampledata['code'] = sampledata['Complaint Type'].cat.codes"
   ]
  },
  {
   "cell_type": "code",
   "execution_count": 73,
   "metadata": {},
   "outputs": [
    {
     "data": {
      "text/plain": [
       "array([10,  1,  6,  2,  7,  8, 12,  0, 14, 11,  4, 13,  9,  5,  3],\n",
       "      dtype=int8)"
      ]
     },
     "execution_count": 73,
     "metadata": {},
     "output_type": "execute_result"
    }
   ],
   "source": [
    "sampledata.code.unique()"
   ]
  },
  {
   "cell_type": "code",
   "execution_count": 74,
   "metadata": {},
   "outputs": [
    {
     "data": {
      "text/html": [
       "<div>\n",
       "<style scoped>\n",
       "    .dataframe tbody tr th:only-of-type {\n",
       "        vertical-align: middle;\n",
       "    }\n",
       "\n",
       "    .dataframe tbody tr th {\n",
       "        vertical-align: top;\n",
       "    }\n",
       "\n",
       "    .dataframe thead th {\n",
       "        text-align: right;\n",
       "    }\n",
       "</style>\n",
       "<table border=\"1\" class=\"dataframe\">\n",
       "  <thead>\n",
       "    <tr style=\"text-align: right;\">\n",
       "      <th>code</th>\n",
       "      <th>0</th>\n",
       "      <th>1</th>\n",
       "      <th>2</th>\n",
       "      <th>3</th>\n",
       "      <th>4</th>\n",
       "      <th>5</th>\n",
       "      <th>6</th>\n",
       "      <th>7</th>\n",
       "      <th>8</th>\n",
       "      <th>9</th>\n",
       "      <th>10</th>\n",
       "      <th>11</th>\n",
       "      <th>12</th>\n",
       "      <th>13</th>\n",
       "      <th>14</th>\n",
       "    </tr>\n",
       "  </thead>\n",
       "  <tbody>\n",
       "    <tr>\n",
       "      <th>count</th>\n",
       "      <td>6581.000000</td>\n",
       "      <td>75366.000000</td>\n",
       "      <td>14689.000000</td>\n",
       "      <td>186.000000</td>\n",
       "      <td>1008.000000</td>\n",
       "      <td>95.000000</td>\n",
       "      <td>61294.000000</td>\n",
       "      <td>32334.00000</td>\n",
       "      <td>696.000000</td>\n",
       "      <td>1270.000000</td>\n",
       "      <td>39451.000000</td>\n",
       "      <td>12126.000000</td>\n",
       "      <td>621.000000</td>\n",
       "      <td>919.000000</td>\n",
       "      <td>2212.000000</td>\n",
       "    </tr>\n",
       "    <tr>\n",
       "      <th>mean</th>\n",
       "      <td>321.657499</td>\n",
       "      <td>284.096237</td>\n",
       "      <td>433.390360</td>\n",
       "      <td>217.075269</td>\n",
       "      <td>230.163690</td>\n",
       "      <td>351.810526</td>\n",
       "      <td>268.250286</td>\n",
       "      <td>187.47297</td>\n",
       "      <td>197.902299</td>\n",
       "      <td>209.650394</td>\n",
       "      <td>208.555170</td>\n",
       "      <td>221.685964</td>\n",
       "      <td>111.748792</td>\n",
       "      <td>234.766050</td>\n",
       "      <td>238.206600</td>\n",
       "    </tr>\n",
       "    <tr>\n",
       "      <th>std</th>\n",
       "      <td>542.620315</td>\n",
       "      <td>334.974111</td>\n",
       "      <td>639.775973</td>\n",
       "      <td>224.736301</td>\n",
       "      <td>317.060966</td>\n",
       "      <td>330.061061</td>\n",
       "      <td>357.289973</td>\n",
       "      <td>244.08687</td>\n",
       "      <td>284.104625</td>\n",
       "      <td>274.272064</td>\n",
       "      <td>287.567441</td>\n",
       "      <td>283.405559</td>\n",
       "      <td>129.990414</td>\n",
       "      <td>270.421584</td>\n",
       "      <td>276.010758</td>\n",
       "    </tr>\n",
       "    <tr>\n",
       "      <th>min</th>\n",
       "      <td>3.000000</td>\n",
       "      <td>2.000000</td>\n",
       "      <td>3.000000</td>\n",
       "      <td>6.000000</td>\n",
       "      <td>4.000000</td>\n",
       "      <td>9.000000</td>\n",
       "      <td>2.000000</td>\n",
       "      <td>1.00000</td>\n",
       "      <td>4.000000</td>\n",
       "      <td>4.000000</td>\n",
       "      <td>2.000000</td>\n",
       "      <td>2.000000</td>\n",
       "      <td>2.000000</td>\n",
       "      <td>6.000000</td>\n",
       "      <td>3.000000</td>\n",
       "    </tr>\n",
       "    <tr>\n",
       "      <th>25%</th>\n",
       "      <td>101.000000</td>\n",
       "      <td>96.000000</td>\n",
       "      <td>101.000000</td>\n",
       "      <td>86.250000</td>\n",
       "      <td>70.750000</td>\n",
       "      <td>129.500000</td>\n",
       "      <td>84.000000</td>\n",
       "      <td>57.00000</td>\n",
       "      <td>48.750000</td>\n",
       "      <td>64.000000</td>\n",
       "      <td>62.000000</td>\n",
       "      <td>68.000000</td>\n",
       "      <td>29.000000</td>\n",
       "      <td>57.000000</td>\n",
       "      <td>72.000000</td>\n",
       "    </tr>\n",
       "    <tr>\n",
       "      <th>50%</th>\n",
       "      <td>203.000000</td>\n",
       "      <td>190.000000</td>\n",
       "      <td>241.000000</td>\n",
       "      <td>157.000000</td>\n",
       "      <td>152.500000</td>\n",
       "      <td>260.000000</td>\n",
       "      <td>176.000000</td>\n",
       "      <td>124.00000</td>\n",
       "      <td>110.000000</td>\n",
       "      <td>128.000000</td>\n",
       "      <td>134.000000</td>\n",
       "      <td>144.000000</td>\n",
       "      <td>63.000000</td>\n",
       "      <td>145.000000</td>\n",
       "      <td>154.000000</td>\n",
       "    </tr>\n",
       "    <tr>\n",
       "      <th>75%</th>\n",
       "      <td>395.000000</td>\n",
       "      <td>357.000000</td>\n",
       "      <td>507.000000</td>\n",
       "      <td>281.750000</td>\n",
       "      <td>294.250000</td>\n",
       "      <td>436.500000</td>\n",
       "      <td>342.000000</td>\n",
       "      <td>239.00000</td>\n",
       "      <td>234.250000</td>\n",
       "      <td>266.000000</td>\n",
       "      <td>262.000000</td>\n",
       "      <td>276.000000</td>\n",
       "      <td>143.000000</td>\n",
       "      <td>316.000000</td>\n",
       "      <td>306.000000</td>\n",
       "    </tr>\n",
       "    <tr>\n",
       "      <th>max</th>\n",
       "      <td>31156.000000</td>\n",
       "      <td>8897.000000</td>\n",
       "      <td>13401.000000</td>\n",
       "      <td>1683.000000</td>\n",
       "      <td>5686.000000</td>\n",
       "      <td>1594.000000</td>\n",
       "      <td>34641.000000</td>\n",
       "      <td>7584.00000</td>\n",
       "      <td>2946.000000</td>\n",
       "      <td>3461.000000</td>\n",
       "      <td>8843.000000</td>\n",
       "      <td>8847.000000</td>\n",
       "      <td>934.000000</td>\n",
       "      <td>2366.000000</td>\n",
       "      <td>3862.000000</td>\n",
       "    </tr>\n",
       "  </tbody>\n",
       "</table>\n",
       "</div>"
      ],
      "text/plain": [
       "code             0             1             2            3            4   \\\n",
       "count   6581.000000  75366.000000  14689.000000   186.000000  1008.000000   \n",
       "mean     321.657499    284.096237    433.390360   217.075269   230.163690   \n",
       "std      542.620315    334.974111    639.775973   224.736301   317.060966   \n",
       "min        3.000000      2.000000      3.000000     6.000000     4.000000   \n",
       "25%      101.000000     96.000000    101.000000    86.250000    70.750000   \n",
       "50%      203.000000    190.000000    241.000000   157.000000   152.500000   \n",
       "75%      395.000000    357.000000    507.000000   281.750000   294.250000   \n",
       "max    31156.000000   8897.000000  13401.000000  1683.000000  5686.000000   \n",
       "\n",
       "code            5             6            7            8            9   \\\n",
       "count    95.000000  61294.000000  32334.00000   696.000000  1270.000000   \n",
       "mean    351.810526    268.250286    187.47297   197.902299   209.650394   \n",
       "std     330.061061    357.289973    244.08687   284.104625   274.272064   \n",
       "min       9.000000      2.000000      1.00000     4.000000     4.000000   \n",
       "25%     129.500000     84.000000     57.00000    48.750000    64.000000   \n",
       "50%     260.000000    176.000000    124.00000   110.000000   128.000000   \n",
       "75%     436.500000    342.000000    239.00000   234.250000   266.000000   \n",
       "max    1594.000000  34641.000000   7584.00000  2946.000000  3461.000000   \n",
       "\n",
       "code             10            11          12           13           14  \n",
       "count  39451.000000  12126.000000  621.000000   919.000000  2212.000000  \n",
       "mean     208.555170    221.685964  111.748792   234.766050   238.206600  \n",
       "std      287.567441    283.405559  129.990414   270.421584   276.010758  \n",
       "min        2.000000      2.000000    2.000000     6.000000     3.000000  \n",
       "25%       62.000000     68.000000   29.000000    57.000000    72.000000  \n",
       "50%      134.000000    144.000000   63.000000   145.000000   154.000000  \n",
       "75%      262.000000    276.000000  143.000000   316.000000   306.000000  \n",
       "max     8843.000000   8847.000000  934.000000  2366.000000  3862.000000  "
      ]
     },
     "execution_count": 74,
     "metadata": {},
     "output_type": "execute_result"
    }
   ],
   "source": [
    "sampledata.groupby('code')['Request_Closing_Time'].describe().T"
   ]
  },
  {
   "cell_type": "code",
   "execution_count": 76,
   "metadata": {},
   "outputs": [
    {
     "data": {
      "text/plain": [
       "F_onewayResult(statistic=477.2510130458414, pvalue=0.0)"
      ]
     },
     "execution_count": 76,
     "metadata": {},
     "output_type": "execute_result"
    }
   ],
   "source": [
    "from scipy import stats\n",
    "stats.f_oneway(sampledata['Request_Closing_Time'][sampledata['code'] == 0],\n",
    "               sampledata['Request_Closing_Time'][sampledata['code'] == 1],\n",
    "               sampledata['Request_Closing_Time'][sampledata['code'] == 2],\n",
    "              sampledata['Request_Closing_Time'][sampledata['code'] == 3],\n",
    "               sampledata['Request_Closing_Time'][sampledata['code'] == 4],\n",
    "               sampledata['Request_Closing_Time'][sampledata['code'] == 5],\n",
    "              sampledata['Request_Closing_Time'][sampledata['code'] == 6],\n",
    "               sampledata['Request_Closing_Time'][sampledata['code'] == 7],\n",
    "               sampledata['Request_Closing_Time'][sampledata['code'] == 8],\n",
    "              sampledata['Request_Closing_Time'][sampledata['code'] == 9],\n",
    "               sampledata['Request_Closing_Time'][sampledata['code'] == 10],\n",
    "               sampledata['Request_Closing_Time'][sampledata['code'] == 11],\n",
    "              sampledata['Request_Closing_Time'][sampledata['code'] == 12],\n",
    "               sampledata['Request_Closing_Time'][sampledata['code'] == 13],\n",
    "               sampledata['Request_Closing_Time'][sampledata['code'] == 14],)"
   ]
  },
  {
   "cell_type": "code",
   "execution_count": 77,
   "metadata": {},
   "outputs": [],
   "source": [
    "from statsmodels.formula.api import ols \n",
    "result = ols('Request_Closing_Time ~ C(code)', data = sampledata).fit()"
   ]
  },
  {
   "cell_type": "code",
   "execution_count": 78,
   "metadata": {},
   "outputs": [
    {
     "name": "stdout",
     "output_type": "stream",
     "text": [
      "                             OLS Regression Results                             \n",
      "================================================================================\n",
      "Dep. Variable:     Request_Closing_Time   R-squared:                       0.026\n",
      "Model:                              OLS   Adj. R-squared:                  0.026\n",
      "Method:                   Least Squares   F-statistic:                     477.3\n",
      "Date:                  Fri, 12 Jun 2020   Prob (F-statistic):               0.00\n",
      "Time:                          01:06:35   Log-Likelihood:            -1.8126e+06\n",
      "No. Observations:                248848   AIC:                         3.625e+06\n",
      "Df Residuals:                    248833   BIC:                         3.625e+06\n",
      "Df Model:                            14                                         \n",
      "Covariance Type:              nonrobust                                         \n",
      "=================================================================================\n",
      "                    coef    std err          t      P>|t|      [0.025      0.975]\n",
      "---------------------------------------------------------------------------------\n",
      "Intercept       321.6575      4.345     74.035      0.000     313.142     330.173\n",
      "C(code)[T.1]    -37.5613      4.530     -8.291      0.000     -46.441     -28.682\n",
      "C(code)[T.2]    111.7329      5.228     21.371      0.000     101.486     121.980\n",
      "C(code)[T.3]   -104.5822     26.206     -3.991      0.000    -155.945     -53.219\n",
      "C(code)[T.4]    -91.4938     11.921     -7.675      0.000    -114.859     -68.129\n",
      "C(code)[T.5]     30.1530     36.421      0.828      0.408     -41.232     101.538\n",
      "C(code)[T.6]    -53.4072      4.572    -11.681      0.000     -62.368     -44.446\n",
      "C(code)[T.7]   -134.1845      4.766    -28.152      0.000    -143.526    -124.843\n",
      "C(code)[T.8]   -123.7552     14.049     -8.809      0.000    -151.290     -96.220\n",
      "C(code)[T.9]   -112.0071     10.802    -10.369      0.000    -133.179     -90.835\n",
      "C(code)[T.10]  -113.1023      4.693    -24.100      0.000    -122.301    -103.904\n",
      "C(code)[T.11]   -99.9715      5.396    -18.526      0.000    -110.548     -89.395\n",
      "C(code)[T.12]  -209.9087     14.796    -14.187      0.000    -238.908    -180.909\n",
      "C(code)[T.13]   -86.8914     12.412     -7.001      0.000    -111.218     -62.565\n",
      "C(code)[T.14]   -83.4509      8.662     -9.634      0.000    -100.429     -66.473\n",
      "==============================================================================\n",
      "Omnibus:                   449443.107   Durbin-Watson:                   1.934\n",
      "Prob(Omnibus):                  0.000   Jarque-Bera (JB):       4835122344.656\n",
      "Skew:                          12.396   Prob(JB):                         0.00\n",
      "Kurtosis:                     685.427   Cond. No.                         56.8\n",
      "==============================================================================\n",
      "\n",
      "Warnings:\n",
      "[1] Standard Errors assume that the covariance matrix of the errors is correctly specified.\n"
     ]
    }
   ],
   "source": [
    "print(result.summary())"
   ]
  },
  {
   "cell_type": "markdown",
   "metadata": {},
   "source": [
    "## As the pvalue is less than 0.05 so we reject null hypothesis and can conclude that average response time is not same."
   ]
  },
  {
   "cell_type": "code",
   "execution_count": null,
   "metadata": {},
   "outputs": [],
   "source": []
  },
  {
   "cell_type": "markdown",
   "metadata": {},
   "source": [
    "## The hypothesis being tested\n",
    "\n",
    "* __Null hypothesis (H0): the type of complaint or service requested and location are independent__\n",
    "* __Alternative hypothesis (H1):the type of complaint or service requested and location are not independent__\n"
   ]
  },
  {
   "cell_type": "code",
   "execution_count": 79,
   "metadata": {},
   "outputs": [
    {
     "data": {
      "text/plain": [
       "(40.83036235589997, -73.86602154214397)     901\n",
       "(40.72195913199264, -73.80969682426189)     505\n",
       "(40.703818970933284, -73.94207345177706)    476\n",
       "(40.549093797686275, -74.17363282481907)    311\n",
       "(40.79770758865914, -73.9401822682408)      295\n",
       "Name: Location, dtype: int64"
      ]
     },
     "execution_count": 79,
     "metadata": {},
     "output_type": "execute_result"
    }
   ],
   "source": [
    "top5_location = nypd_copy['Location'].value_counts()[:5]\n",
    "top5_location"
   ]
  },
  {
   "cell_type": "code",
   "execution_count": 80,
   "metadata": {},
   "outputs": [
    {
     "data": {
      "text/plain": [
       "Index(['(40.83036235589997, -73.86602154214397)',\n",
       "       '(40.72195913199264, -73.80969682426189)',\n",
       "       '(40.703818970933284, -73.94207345177706)',\n",
       "       '(40.549093797686275, -74.17363282481907)',\n",
       "       '(40.79770758865914, -73.9401822682408)'],\n",
       "      dtype='object')"
      ]
     },
     "execution_count": 80,
     "metadata": {},
     "output_type": "execute_result"
    }
   ],
   "source": [
    "top5_location_names = top5_location.index\n",
    "top5_location_names"
   ]
  },
  {
   "cell_type": "code",
   "execution_count": 82,
   "metadata": {},
   "outputs": [
    {
     "data": {
      "text/plain": [
       "Blocked Driveway           75366\n",
       "Illegal Parking            61294\n",
       "Noise - Street/Sidewalk    39451\n",
       "Noise - Commercial         32334\n",
       "Derelict Vehicle           14689\n",
       "Name: Complaint Type, dtype: int64"
      ]
     },
     "execution_count": 82,
     "metadata": {},
     "output_type": "execute_result"
    }
   ],
   "source": [
    "top5_complaints_type = nypd_copy['Complaint Type'].value_counts()[:5]\n",
    "top5_complaints_type"
   ]
  },
  {
   "cell_type": "code",
   "execution_count": 83,
   "metadata": {},
   "outputs": [
    {
     "data": {
      "text/plain": [
       "Index(['Blocked Driveway', 'Illegal Parking', 'Noise - Street/Sidewalk',\n",
       "       'Noise - Commercial', 'Derelict Vehicle'],\n",
       "      dtype='object')"
      ]
     },
     "execution_count": 83,
     "metadata": {},
     "output_type": "execute_result"
    }
   ],
   "source": [
    "top5_complaints_type_names = top5_complaints_type.index\n",
    "top5_complaints_type_names"
   ]
  },
  {
   "cell_type": "code",
   "execution_count": 85,
   "metadata": {},
   "outputs": [
    {
     "data": {
      "text/html": [
       "<div>\n",
       "<style scoped>\n",
       "    .dataframe tbody tr th:only-of-type {\n",
       "        vertical-align: middle;\n",
       "    }\n",
       "\n",
       "    .dataframe tbody tr th {\n",
       "        vertical-align: top;\n",
       "    }\n",
       "\n",
       "    .dataframe thead th {\n",
       "        text-align: right;\n",
       "    }\n",
       "</style>\n",
       "<table border=\"1\" class=\"dataframe\">\n",
       "  <thead>\n",
       "    <tr style=\"text-align: right;\">\n",
       "      <th></th>\n",
       "      <th>Complaint Type</th>\n",
       "      <th>Location</th>\n",
       "    </tr>\n",
       "  </thead>\n",
       "  <tbody>\n",
       "    <tr>\n",
       "      <th>385</th>\n",
       "      <td>Illegal Parking</td>\n",
       "      <td>(40.72195913199264, -73.80969682426189)</td>\n",
       "    </tr>\n",
       "    <tr>\n",
       "      <th>441</th>\n",
       "      <td>Noise - Street/Sidewalk</td>\n",
       "      <td>(40.83036235589997, -73.86602154214397)</td>\n",
       "    </tr>\n",
       "    <tr>\n",
       "      <th>478</th>\n",
       "      <td>Noise - Commercial</td>\n",
       "      <td>(40.83036235589997, -73.86602154214397)</td>\n",
       "    </tr>\n",
       "    <tr>\n",
       "      <th>862</th>\n",
       "      <td>Noise - Commercial</td>\n",
       "      <td>(40.83036235589997, -73.86602154214397)</td>\n",
       "    </tr>\n",
       "    <tr>\n",
       "      <th>1010</th>\n",
       "      <td>Noise - Commercial</td>\n",
       "      <td>(40.83036235589997, -73.86602154214397)</td>\n",
       "    </tr>\n",
       "  </tbody>\n",
       "</table>\n",
       "</div>"
      ],
      "text/plain": [
       "               Complaint Type                                 Location\n",
       "385           Illegal Parking  (40.72195913199264, -73.80969682426189)\n",
       "441   Noise - Street/Sidewalk  (40.83036235589997, -73.86602154214397)\n",
       "478        Noise - Commercial  (40.83036235589997, -73.86602154214397)\n",
       "862        Noise - Commercial  (40.83036235589997, -73.86602154214397)\n",
       "1010       Noise - Commercial  (40.83036235589997, -73.86602154214397)"
      ]
     },
     "execution_count": 85,
     "metadata": {},
     "output_type": "execute_result"
    }
   ],
   "source": [
    "sample_data = nypd_copy.loc[(nypd_copy['Complaint Type'].isin(top5_complaints_type_names)) & (nypd_copy['Location'].isin(top5_location_names)), ['Complaint Type', 'Location']]\n",
    "sample_data.head()"
   ]
  },
  {
   "cell_type": "code",
   "execution_count": 87,
   "metadata": {},
   "outputs": [
    {
     "data": {
      "text/html": [
       "<div>\n",
       "<style scoped>\n",
       "    .dataframe tbody tr th:only-of-type {\n",
       "        vertical-align: middle;\n",
       "    }\n",
       "\n",
       "    .dataframe tbody tr th {\n",
       "        vertical-align: top;\n",
       "    }\n",
       "\n",
       "    .dataframe thead th {\n",
       "        text-align: right;\n",
       "    }\n",
       "</style>\n",
       "<table border=\"1\" class=\"dataframe\">\n",
       "  <thead>\n",
       "    <tr style=\"text-align: right;\">\n",
       "      <th>Location</th>\n",
       "      <th>(40.549093797686275, -74.17363282481907)</th>\n",
       "      <th>(40.703818970933284, -73.94207345177706)</th>\n",
       "      <th>(40.72195913199264, -73.80969682426189)</th>\n",
       "      <th>(40.79770758865914, -73.9401822682408)</th>\n",
       "      <th>(40.83036235589997, -73.86602154214397)</th>\n",
       "      <th>All</th>\n",
       "    </tr>\n",
       "    <tr>\n",
       "      <th>Complaint Type</th>\n",
       "      <th></th>\n",
       "      <th></th>\n",
       "      <th></th>\n",
       "      <th></th>\n",
       "      <th></th>\n",
       "      <th></th>\n",
       "    </tr>\n",
       "  </thead>\n",
       "  <tbody>\n",
       "    <tr>\n",
       "      <th>Blocked Driveway</th>\n",
       "      <td>1</td>\n",
       "      <td>0</td>\n",
       "      <td>2</td>\n",
       "      <td>0</td>\n",
       "      <td>0</td>\n",
       "      <td>3</td>\n",
       "    </tr>\n",
       "    <tr>\n",
       "      <th>Illegal Parking</th>\n",
       "      <td>54</td>\n",
       "      <td>0</td>\n",
       "      <td>503</td>\n",
       "      <td>0</td>\n",
       "      <td>0</td>\n",
       "      <td>557</td>\n",
       "    </tr>\n",
       "    <tr>\n",
       "      <th>Noise - Commercial</th>\n",
       "      <td>0</td>\n",
       "      <td>458</td>\n",
       "      <td>0</td>\n",
       "      <td>295</td>\n",
       "      <td>527</td>\n",
       "      <td>1280</td>\n",
       "    </tr>\n",
       "    <tr>\n",
       "      <th>Noise - Street/Sidewalk</th>\n",
       "      <td>0</td>\n",
       "      <td>18</td>\n",
       "      <td>0</td>\n",
       "      <td>0</td>\n",
       "      <td>337</td>\n",
       "      <td>355</td>\n",
       "    </tr>\n",
       "    <tr>\n",
       "      <th>All</th>\n",
       "      <td>55</td>\n",
       "      <td>476</td>\n",
       "      <td>505</td>\n",
       "      <td>295</td>\n",
       "      <td>864</td>\n",
       "      <td>2195</td>\n",
       "    </tr>\n",
       "  </tbody>\n",
       "</table>\n",
       "</div>"
      ],
      "text/plain": [
       "Location                 (40.549093797686275, -74.17363282481907)  \\\n",
       "Complaint Type                                                      \n",
       "Blocked Driveway                                                1   \n",
       "Illegal Parking                                                54   \n",
       "Noise - Commercial                                              0   \n",
       "Noise - Street/Sidewalk                                         0   \n",
       "All                                                            55   \n",
       "\n",
       "Location                 (40.703818970933284, -73.94207345177706)  \\\n",
       "Complaint Type                                                      \n",
       "Blocked Driveway                                                0   \n",
       "Illegal Parking                                                 0   \n",
       "Noise - Commercial                                            458   \n",
       "Noise - Street/Sidewalk                                        18   \n",
       "All                                                           476   \n",
       "\n",
       "Location                 (40.72195913199264, -73.80969682426189)  \\\n",
       "Complaint Type                                                     \n",
       "Blocked Driveway                                               2   \n",
       "Illegal Parking                                              503   \n",
       "Noise - Commercial                                             0   \n",
       "Noise - Street/Sidewalk                                        0   \n",
       "All                                                          505   \n",
       "\n",
       "Location                 (40.79770758865914, -73.9401822682408)  \\\n",
       "Complaint Type                                                    \n",
       "Blocked Driveway                                              0   \n",
       "Illegal Parking                                               0   \n",
       "Noise - Commercial                                          295   \n",
       "Noise - Street/Sidewalk                                       0   \n",
       "All                                                         295   \n",
       "\n",
       "Location                 (40.83036235589997, -73.86602154214397)   All  \n",
       "Complaint Type                                                          \n",
       "Blocked Driveway                                               0     3  \n",
       "Illegal Parking                                                0   557  \n",
       "Noise - Commercial                                           527  1280  \n",
       "Noise - Street/Sidewalk                                      337   355  \n",
       "All                                                          864  2195  "
      ]
     },
     "execution_count": 87,
     "metadata": {},
     "output_type": "execute_result"
    }
   ],
   "source": [
    "pd.crosstab(sample_data['Complaint Type'], sample_data['Location'], margins=True)"
   ]
  },
  {
   "cell_type": "code",
   "execution_count": 90,
   "metadata": {},
   "outputs": [],
   "source": [
    "ch2, p_value, df, exp_frq = stats.chi2_contingency(pd.crosstab(sample_data['Complaint Type'], sample_data['Location']))"
   ]
  },
  {
   "cell_type": "code",
   "execution_count": 95,
   "metadata": {},
   "outputs": [
    {
     "name": "stdout",
     "output_type": "stream",
     "text": [
      "ch^2:2637.1351752488144\n",
      "p-value:0.0\n"
     ]
    }
   ],
   "source": [
    "print(f\"ch^2:{ch2}\")\n",
    "print(f\"p-value:{p_value}\")"
   ]
  },
  {
   "cell_type": "markdown",
   "metadata": {},
   "source": [
    "## As the pvalue is pvalue is less than 0.05 so we reject null hypothesis and conclude that complain type and location are not independent."
   ]
  },
  {
   "cell_type": "code",
   "execution_count": null,
   "metadata": {},
   "outputs": [],
   "source": []
  }
 ],
 "metadata": {
  "kernelspec": {
   "display_name": "Python 3",
   "language": "python",
   "name": "python3"
  },
  "language_info": {
   "codemirror_mode": {
    "name": "ipython",
    "version": 3
   },
   "file_extension": ".py",
   "mimetype": "text/x-python",
   "name": "python",
   "nbconvert_exporter": "python",
   "pygments_lexer": "ipython3",
   "version": "3.7.6"
  }
 },
 "nbformat": 4,
 "nbformat_minor": 4
}
