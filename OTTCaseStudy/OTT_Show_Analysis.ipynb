{
 "cells": [
  {
   "cell_type": "code",
   "execution_count": 1,
   "metadata": {},
   "outputs": [],
   "source": [
    "import numpy as np\n",
    "import pandas as pd\n",
    "import matplotlib.pyplot as plt\n",
    "import seaborn as sns"
   ]
  },
  {
   "cell_type": "code",
   "execution_count": 2,
   "metadata": {},
   "outputs": [],
   "source": [
    "show_data = pd.read_csv('./dataset/mediacompany.csv')"
   ]
  },
  {
   "cell_type": "code",
   "execution_count": 3,
   "metadata": {},
   "outputs": [
    {
     "data": {
      "text/html": [
       "<div>\n",
       "<style scoped>\n",
       "    .dataframe tbody tr th:only-of-type {\n",
       "        vertical-align: middle;\n",
       "    }\n",
       "\n",
       "    .dataframe tbody tr th {\n",
       "        vertical-align: top;\n",
       "    }\n",
       "\n",
       "    .dataframe thead th {\n",
       "        text-align: right;\n",
       "    }\n",
       "</style>\n",
       "<table border=\"1\" class=\"dataframe\">\n",
       "  <thead>\n",
       "    <tr style=\"text-align: right;\">\n",
       "      <th></th>\n",
       "      <th>Date</th>\n",
       "      <th>Views_show</th>\n",
       "      <th>Visitors</th>\n",
       "      <th>Views_platform</th>\n",
       "      <th>Ad_impression</th>\n",
       "      <th>Cricket_match_india</th>\n",
       "      <th>Character_A</th>\n",
       "      <th>Unnamed: 7</th>\n",
       "    </tr>\n",
       "  </thead>\n",
       "  <tbody>\n",
       "    <tr>\n",
       "      <th>56</th>\n",
       "      <td>4/26/2017</td>\n",
       "      <td>208445</td>\n",
       "      <td>1848354</td>\n",
       "      <td>2388369</td>\n",
       "      <td>1294777190</td>\n",
       "      <td>0</td>\n",
       "      <td>0</td>\n",
       "      <td>NaN</td>\n",
       "    </tr>\n",
       "    <tr>\n",
       "      <th>42</th>\n",
       "      <td>4/12/2017</td>\n",
       "      <td>190287</td>\n",
       "      <td>1598403</td>\n",
       "      <td>2281562</td>\n",
       "      <td>1407426028</td>\n",
       "      <td>0</td>\n",
       "      <td>1</td>\n",
       "      <td>NaN</td>\n",
       "    </tr>\n",
       "    <tr>\n",
       "      <th>57</th>\n",
       "      <td>4/27/2017</td>\n",
       "      <td>164043</td>\n",
       "      <td>1772449</td>\n",
       "      <td>2303380</td>\n",
       "      <td>1216537437</td>\n",
       "      <td>0</td>\n",
       "      <td>0</td>\n",
       "      <td>NaN</td>\n",
       "    </tr>\n",
       "    <tr>\n",
       "      <th>29</th>\n",
       "      <td>3/30/2017</td>\n",
       "      <td>333613</td>\n",
       "      <td>1630580</td>\n",
       "      <td>2134012</td>\n",
       "      <td>1654933815</td>\n",
       "      <td>0</td>\n",
       "      <td>1</td>\n",
       "      <td>NaN</td>\n",
       "    </tr>\n",
       "    <tr>\n",
       "      <th>30</th>\n",
       "      <td>3/31/2017</td>\n",
       "      <td>281706</td>\n",
       "      <td>1588526</td>\n",
       "      <td>1998083</td>\n",
       "      <td>1557197792</td>\n",
       "      <td>0</td>\n",
       "      <td>1</td>\n",
       "      <td>NaN</td>\n",
       "    </tr>\n",
       "  </tbody>\n",
       "</table>\n",
       "</div>"
      ],
      "text/plain": [
       "         Date  Views_show  Visitors  Views_platform  Ad_impression  \\\n",
       "56  4/26/2017      208445   1848354         2388369     1294777190   \n",
       "42  4/12/2017      190287   1598403         2281562     1407426028   \n",
       "57  4/27/2017      164043   1772449         2303380     1216537437   \n",
       "29  3/30/2017      333613   1630580         2134012     1654933815   \n",
       "30  3/31/2017      281706   1588526         1998083     1557197792   \n",
       "\n",
       "    Cricket_match_india  Character_A  Unnamed: 7  \n",
       "56                    0            0         NaN  \n",
       "42                    0            1         NaN  \n",
       "57                    0            0         NaN  \n",
       "29                    0            1         NaN  \n",
       "30                    0            1         NaN  "
      ]
     },
     "execution_count": 3,
     "metadata": {},
     "output_type": "execute_result"
    }
   ],
   "source": [
    "show_data.sample(5)"
   ]
  },
  {
   "cell_type": "code",
   "execution_count": 4,
   "metadata": {},
   "outputs": [
    {
     "name": "stdout",
     "output_type": "stream",
     "text": [
      "<class 'pandas.core.frame.DataFrame'>\n",
      "RangeIndex: 80 entries, 0 to 79\n",
      "Data columns (total 8 columns):\n",
      " #   Column               Non-Null Count  Dtype  \n",
      "---  ------               --------------  -----  \n",
      " 0   Date                 80 non-null     object \n",
      " 1   Views_show           80 non-null     int64  \n",
      " 2   Visitors             80 non-null     int64  \n",
      " 3   Views_platform       80 non-null     int64  \n",
      " 4   Ad_impression        80 non-null     int64  \n",
      " 5   Cricket_match_india  80 non-null     int64  \n",
      " 6   Character_A          80 non-null     int64  \n",
      " 7   Unnamed: 7           0 non-null      float64\n",
      "dtypes: float64(1), int64(6), object(1)\n",
      "memory usage: 5.1+ KB\n"
     ]
    }
   ],
   "source": [
    "show_data.info()"
   ]
  },
  {
   "cell_type": "code",
   "execution_count": 5,
   "metadata": {},
   "outputs": [],
   "source": [
    "show_data.drop('Unnamed: 7',axis=1, inplace=True)"
   ]
  },
  {
   "cell_type": "code",
   "execution_count": 6,
   "metadata": {},
   "outputs": [],
   "source": [
    "import datetime as dt\n",
    "show_data['Date'] = pd.to_datetime(show_data['Date'])"
   ]
  },
  {
   "cell_type": "code",
   "execution_count": 7,
   "metadata": {},
   "outputs": [
    {
     "name": "stdout",
     "output_type": "stream",
     "text": [
      "<class 'pandas.core.frame.DataFrame'>\n",
      "RangeIndex: 80 entries, 0 to 79\n",
      "Data columns (total 7 columns):\n",
      " #   Column               Non-Null Count  Dtype         \n",
      "---  ------               --------------  -----         \n",
      " 0   Date                 80 non-null     datetime64[ns]\n",
      " 1   Views_show           80 non-null     int64         \n",
      " 2   Visitors             80 non-null     int64         \n",
      " 3   Views_platform       80 non-null     int64         \n",
      " 4   Ad_impression        80 non-null     int64         \n",
      " 5   Cricket_match_india  80 non-null     int64         \n",
      " 6   Character_A          80 non-null     int64         \n",
      "dtypes: datetime64[ns](1), int64(6)\n",
      "memory usage: 4.5 KB\n"
     ]
    }
   ],
   "source": [
    "show_data.info()"
   ]
  },
  {
   "cell_type": "code",
   "execution_count": 8,
   "metadata": {},
   "outputs": [
    {
     "data": {
      "text/html": [
       "<div>\n",
       "<style scoped>\n",
       "    .dataframe tbody tr th:only-of-type {\n",
       "        vertical-align: middle;\n",
       "    }\n",
       "\n",
       "    .dataframe tbody tr th {\n",
       "        vertical-align: top;\n",
       "    }\n",
       "\n",
       "    .dataframe thead th {\n",
       "        text-align: right;\n",
       "    }\n",
       "</style>\n",
       "<table border=\"1\" class=\"dataframe\">\n",
       "  <thead>\n",
       "    <tr style=\"text-align: right;\">\n",
       "      <th></th>\n",
       "      <th>Views_show</th>\n",
       "      <th>Visitors</th>\n",
       "      <th>Views_platform</th>\n",
       "      <th>Ad_impression</th>\n",
       "      <th>Cricket_match_india</th>\n",
       "      <th>Character_A</th>\n",
       "    </tr>\n",
       "  </thead>\n",
       "  <tbody>\n",
       "    <tr>\n",
       "      <th>count</th>\n",
       "      <td>80.000000</td>\n",
       "      <td>8.000000e+01</td>\n",
       "      <td>8.000000e+01</td>\n",
       "      <td>8.000000e+01</td>\n",
       "      <td>80.000000</td>\n",
       "      <td>80.000000</td>\n",
       "    </tr>\n",
       "    <tr>\n",
       "      <th>mean</th>\n",
       "      <td>289902.625000</td>\n",
       "      <td>1.699066e+06</td>\n",
       "      <td>2.222401e+06</td>\n",
       "      <td>1.442374e+09</td>\n",
       "      <td>0.100000</td>\n",
       "      <td>0.375000</td>\n",
       "    </tr>\n",
       "    <tr>\n",
       "      <th>std</th>\n",
       "      <td>154924.323585</td>\n",
       "      <td>2.311571e+05</td>\n",
       "      <td>2.913510e+05</td>\n",
       "      <td>2.983186e+08</td>\n",
       "      <td>0.301893</td>\n",
       "      <td>0.487177</td>\n",
       "    </tr>\n",
       "    <tr>\n",
       "      <th>min</th>\n",
       "      <td>102520.000000</td>\n",
       "      <td>1.248183e+06</td>\n",
       "      <td>1.690727e+06</td>\n",
       "      <td>1.010868e+09</td>\n",
       "      <td>0.000000</td>\n",
       "      <td>0.000000</td>\n",
       "    </tr>\n",
       "    <tr>\n",
       "      <th>25%</th>\n",
       "      <td>185353.250000</td>\n",
       "      <td>1.550766e+06</td>\n",
       "      <td>2.010816e+06</td>\n",
       "      <td>1.207911e+09</td>\n",
       "      <td>0.000000</td>\n",
       "      <td>0.000000</td>\n",
       "    </tr>\n",
       "    <tr>\n",
       "      <th>50%</th>\n",
       "      <td>235807.000000</td>\n",
       "      <td>1.698843e+06</td>\n",
       "      <td>2.226270e+06</td>\n",
       "      <td>1.385931e+09</td>\n",
       "      <td>0.000000</td>\n",
       "      <td>0.000000</td>\n",
       "    </tr>\n",
       "    <tr>\n",
       "      <th>75%</th>\n",
       "      <td>350079.000000</td>\n",
       "      <td>1.817895e+06</td>\n",
       "      <td>2.388837e+06</td>\n",
       "      <td>1.632416e+09</td>\n",
       "      <td>0.000000</td>\n",
       "      <td>1.000000</td>\n",
       "    </tr>\n",
       "    <tr>\n",
       "      <th>max</th>\n",
       "      <td>758631.000000</td>\n",
       "      <td>2.344650e+06</td>\n",
       "      <td>3.064422e+06</td>\n",
       "      <td>2.424203e+09</td>\n",
       "      <td>1.000000</td>\n",
       "      <td>1.000000</td>\n",
       "    </tr>\n",
       "  </tbody>\n",
       "</table>\n",
       "</div>"
      ],
      "text/plain": [
       "          Views_show      Visitors  Views_platform  Ad_impression  \\\n",
       "count      80.000000  8.000000e+01    8.000000e+01   8.000000e+01   \n",
       "mean   289902.625000  1.699066e+06    2.222401e+06   1.442374e+09   \n",
       "std    154924.323585  2.311571e+05    2.913510e+05   2.983186e+08   \n",
       "min    102520.000000  1.248183e+06    1.690727e+06   1.010868e+09   \n",
       "25%    185353.250000  1.550766e+06    2.010816e+06   1.207911e+09   \n",
       "50%    235807.000000  1.698843e+06    2.226270e+06   1.385931e+09   \n",
       "75%    350079.000000  1.817895e+06    2.388837e+06   1.632416e+09   \n",
       "max    758631.000000  2.344650e+06    3.064422e+06   2.424203e+09   \n",
       "\n",
       "       Cricket_match_india  Character_A  \n",
       "count            80.000000    80.000000  \n",
       "mean              0.100000     0.375000  \n",
       "std               0.301893     0.487177  \n",
       "min               0.000000     0.000000  \n",
       "25%               0.000000     0.000000  \n",
       "50%               0.000000     0.000000  \n",
       "75%               0.000000     1.000000  \n",
       "max               1.000000     1.000000  "
      ]
     },
     "execution_count": 8,
     "metadata": {},
     "output_type": "execute_result"
    }
   ],
   "source": [
    "show_data.describe()"
   ]
  },
  {
   "cell_type": "code",
   "execution_count": 9,
   "metadata": {},
   "outputs": [
    {
     "data": {
      "text/html": [
       "<div>\n",
       "<style scoped>\n",
       "    .dataframe tbody tr th:only-of-type {\n",
       "        vertical-align: middle;\n",
       "    }\n",
       "\n",
       "    .dataframe tbody tr th {\n",
       "        vertical-align: top;\n",
       "    }\n",
       "\n",
       "    .dataframe thead th {\n",
       "        text-align: right;\n",
       "    }\n",
       "</style>\n",
       "<table border=\"1\" class=\"dataframe\">\n",
       "  <thead>\n",
       "    <tr style=\"text-align: right;\">\n",
       "      <th></th>\n",
       "      <th>Views_show</th>\n",
       "      <th>Visitors</th>\n",
       "      <th>Views_platform</th>\n",
       "      <th>Ad_impression</th>\n",
       "      <th>Cricket_match_india</th>\n",
       "      <th>Character_A</th>\n",
       "    </tr>\n",
       "  </thead>\n",
       "  <tbody>\n",
       "    <tr>\n",
       "      <th>Views_show</th>\n",
       "      <td>1.000000</td>\n",
       "      <td>0.535290</td>\n",
       "      <td>0.604279</td>\n",
       "      <td>0.785673</td>\n",
       "      <td>-0.083154</td>\n",
       "      <td>0.402533</td>\n",
       "    </tr>\n",
       "    <tr>\n",
       "      <th>Visitors</th>\n",
       "      <td>0.535290</td>\n",
       "      <td>1.000000</td>\n",
       "      <td>0.935832</td>\n",
       "      <td>0.478598</td>\n",
       "      <td>0.147210</td>\n",
       "      <td>0.223093</td>\n",
       "    </tr>\n",
       "    <tr>\n",
       "      <th>Views_platform</th>\n",
       "      <td>0.604279</td>\n",
       "      <td>0.935832</td>\n",
       "      <td>1.000000</td>\n",
       "      <td>0.587003</td>\n",
       "      <td>0.036575</td>\n",
       "      <td>0.452375</td>\n",
       "    </tr>\n",
       "    <tr>\n",
       "      <th>Ad_impression</th>\n",
       "      <td>0.785673</td>\n",
       "      <td>0.478598</td>\n",
       "      <td>0.587003</td>\n",
       "      <td>1.000000</td>\n",
       "      <td>-0.163936</td>\n",
       "      <td>0.644354</td>\n",
       "    </tr>\n",
       "    <tr>\n",
       "      <th>Cricket_match_india</th>\n",
       "      <td>-0.083154</td>\n",
       "      <td>0.147210</td>\n",
       "      <td>0.036575</td>\n",
       "      <td>-0.163936</td>\n",
       "      <td>1.000000</td>\n",
       "      <td>-0.258199</td>\n",
       "    </tr>\n",
       "    <tr>\n",
       "      <th>Character_A</th>\n",
       "      <td>0.402533</td>\n",
       "      <td>0.223093</td>\n",
       "      <td>0.452375</td>\n",
       "      <td>0.644354</td>\n",
       "      <td>-0.258199</td>\n",
       "      <td>1.000000</td>\n",
       "    </tr>\n",
       "  </tbody>\n",
       "</table>\n",
       "</div>"
      ],
      "text/plain": [
       "                     Views_show  Visitors  Views_platform  Ad_impression  \\\n",
       "Views_show             1.000000  0.535290        0.604279       0.785673   \n",
       "Visitors               0.535290  1.000000        0.935832       0.478598   \n",
       "Views_platform         0.604279  0.935832        1.000000       0.587003   \n",
       "Ad_impression          0.785673  0.478598        0.587003       1.000000   \n",
       "Cricket_match_india   -0.083154  0.147210        0.036575      -0.163936   \n",
       "Character_A            0.402533  0.223093        0.452375       0.644354   \n",
       "\n",
       "                     Cricket_match_india  Character_A  \n",
       "Views_show                     -0.083154     0.402533  \n",
       "Visitors                        0.147210     0.223093  \n",
       "Views_platform                  0.036575     0.452375  \n",
       "Ad_impression                  -0.163936     0.644354  \n",
       "Cricket_match_india             1.000000    -0.258199  \n",
       "Character_A                    -0.258199     1.000000  "
      ]
     },
     "execution_count": 9,
     "metadata": {},
     "output_type": "execute_result"
    }
   ],
   "source": [
    "show_data.corr()"
   ]
  },
  {
   "cell_type": "code",
   "execution_count": 10,
   "metadata": {},
   "outputs": [
    {
     "data": {
      "text/plain": [
       "<matplotlib.axes._subplots.AxesSubplot at 0x128e1dde3c8>"
      ]
     },
     "execution_count": 10,
     "metadata": {},
     "output_type": "execute_result"
    },
    {
     "data": {
      "image/png": "[encoded data removed]",
      "text/plain": [
       "<Figure size 432x288 with 2 Axes>"
      ]
     },
     "metadata": {
      "needs_background": "light"
     },
     "output_type": "display_data"
    }
   ],
   "source": [
    "sns.heatmap(show_data.corr(), annot=True)"
   ]
  },
  {
   "cell_type": "code",
   "execution_count": 11,
   "metadata": {},
   "outputs": [],
   "source": [
    "show_data['Day_of_week'] = show_data['Date'].dt.dayofweek"
   ]
  },
  {
   "cell_type": "code",
   "execution_count": 12,
   "metadata": {},
   "outputs": [],
   "source": [
    "show_data['Day'] = (show_data.index+1)"
   ]
  },
  {
   "cell_type": "code",
   "execution_count": 13,
   "metadata": {},
   "outputs": [
    {
     "data": {
      "text/html": [
       "<div>\n",
       "<style scoped>\n",
       "    .dataframe tbody tr th:only-of-type {\n",
       "        vertical-align: middle;\n",
       "    }\n",
       "\n",
       "    .dataframe tbody tr th {\n",
       "        vertical-align: top;\n",
       "    }\n",
       "\n",
       "    .dataframe thead th {\n",
       "        text-align: right;\n",
       "    }\n",
       "</style>\n",
       "<table border=\"1\" class=\"dataframe\">\n",
       "  <thead>\n",
       "    <tr style=\"text-align: right;\">\n",
       "      <th></th>\n",
       "      <th>Date</th>\n",
       "      <th>Views_show</th>\n",
       "      <th>Visitors</th>\n",
       "      <th>Views_platform</th>\n",
       "      <th>Ad_impression</th>\n",
       "      <th>Cricket_match_india</th>\n",
       "      <th>Character_A</th>\n",
       "      <th>Day_of_week</th>\n",
       "      <th>Day</th>\n",
       "    </tr>\n",
       "  </thead>\n",
       "  <tbody>\n",
       "    <tr>\n",
       "      <th>0</th>\n",
       "      <td>2017-03-01</td>\n",
       "      <td>183738</td>\n",
       "      <td>1260228</td>\n",
       "      <td>1706478</td>\n",
       "      <td>1060860448</td>\n",
       "      <td>0</td>\n",
       "      <td>0</td>\n",
       "      <td>2</td>\n",
       "      <td>1</td>\n",
       "    </tr>\n",
       "    <tr>\n",
       "      <th>1</th>\n",
       "      <td>2017-03-02</td>\n",
       "      <td>193763</td>\n",
       "      <td>1270561</td>\n",
       "      <td>1690727</td>\n",
       "      <td>1031846645</td>\n",
       "      <td>0</td>\n",
       "      <td>0</td>\n",
       "      <td>3</td>\n",
       "      <td>2</td>\n",
       "    </tr>\n",
       "    <tr>\n",
       "      <th>2</th>\n",
       "      <td>2017-03-03</td>\n",
       "      <td>210479</td>\n",
       "      <td>1248183</td>\n",
       "      <td>1726157</td>\n",
       "      <td>1010867575</td>\n",
       "      <td>0</td>\n",
       "      <td>0</td>\n",
       "      <td>4</td>\n",
       "      <td>3</td>\n",
       "    </tr>\n",
       "    <tr>\n",
       "      <th>3</th>\n",
       "      <td>2017-03-04</td>\n",
       "      <td>240061</td>\n",
       "      <td>1492913</td>\n",
       "      <td>1855353</td>\n",
       "      <td>1079194579</td>\n",
       "      <td>1</td>\n",
       "      <td>0</td>\n",
       "      <td>5</td>\n",
       "      <td>4</td>\n",
       "    </tr>\n",
       "    <tr>\n",
       "      <th>4</th>\n",
       "      <td>2017-03-05</td>\n",
       "      <td>446314</td>\n",
       "      <td>1594712</td>\n",
       "      <td>2041418</td>\n",
       "      <td>1357736987</td>\n",
       "      <td>0</td>\n",
       "      <td>0</td>\n",
       "      <td>6</td>\n",
       "      <td>5</td>\n",
       "    </tr>\n",
       "    <tr>\n",
       "      <th>5</th>\n",
       "      <td>2017-03-06</td>\n",
       "      <td>342997</td>\n",
       "      <td>1330689</td>\n",
       "      <td>1742540</td>\n",
       "      <td>1140228426</td>\n",
       "      <td>0</td>\n",
       "      <td>0</td>\n",
       "      <td>0</td>\n",
       "      <td>6</td>\n",
       "    </tr>\n",
       "    <tr>\n",
       "      <th>6</th>\n",
       "      <td>2017-03-07</td>\n",
       "      <td>227313</td>\n",
       "      <td>1363579</td>\n",
       "      <td>1821742</td>\n",
       "      <td>1113811802</td>\n",
       "      <td>0</td>\n",
       "      <td>0</td>\n",
       "      <td>1</td>\n",
       "      <td>7</td>\n",
       "    </tr>\n",
       "    <tr>\n",
       "      <th>7</th>\n",
       "      <td>2017-03-08</td>\n",
       "      <td>180313</td>\n",
       "      <td>1353483</td>\n",
       "      <td>1795456</td>\n",
       "      <td>1083475096</td>\n",
       "      <td>0</td>\n",
       "      <td>0</td>\n",
       "      <td>2</td>\n",
       "      <td>8</td>\n",
       "    </tr>\n",
       "    <tr>\n",
       "      <th>8</th>\n",
       "      <td>2017-03-09</td>\n",
       "      <td>178800</td>\n",
       "      <td>1345428</td>\n",
       "      <td>1794157</td>\n",
       "      <td>1067636147</td>\n",
       "      <td>0</td>\n",
       "      <td>0</td>\n",
       "      <td>3</td>\n",
       "      <td>9</td>\n",
       "    </tr>\n",
       "    <tr>\n",
       "      <th>9</th>\n",
       "      <td>2017-03-10</td>\n",
       "      <td>201180</td>\n",
       "      <td>1344540</td>\n",
       "      <td>1834967</td>\n",
       "      <td>1081234843</td>\n",
       "      <td>0</td>\n",
       "      <td>0</td>\n",
       "      <td>4</td>\n",
       "      <td>10</td>\n",
       "    </tr>\n",
       "    <tr>\n",
       "      <th>10</th>\n",
       "      <td>2017-03-11</td>\n",
       "      <td>218956</td>\n",
       "      <td>1500926</td>\n",
       "      <td>1926280</td>\n",
       "      <td>1119900035</td>\n",
       "      <td>0</td>\n",
       "      <td>0</td>\n",
       "      <td>5</td>\n",
       "      <td>11</td>\n",
       "    </tr>\n",
       "    <tr>\n",
       "      <th>11</th>\n",
       "      <td>2017-03-12</td>\n",
       "      <td>437117</td>\n",
       "      <td>1554859</td>\n",
       "      <td>2015050</td>\n",
       "      <td>1390620085</td>\n",
       "      <td>0</td>\n",
       "      <td>0</td>\n",
       "      <td>6</td>\n",
       "      <td>12</td>\n",
       "    </tr>\n",
       "    <tr>\n",
       "      <th>12</th>\n",
       "      <td>2017-03-13</td>\n",
       "      <td>263638</td>\n",
       "      <td>1438887</td>\n",
       "      <td>1808967</td>\n",
       "      <td>1231295791</td>\n",
       "      <td>0</td>\n",
       "      <td>0</td>\n",
       "      <td>0</td>\n",
       "      <td>13</td>\n",
       "    </tr>\n",
       "    <tr>\n",
       "      <th>13</th>\n",
       "      <td>2017-03-14</td>\n",
       "      <td>185896</td>\n",
       "      <td>1459500</td>\n",
       "      <td>1864134</td>\n",
       "      <td>1210330496</td>\n",
       "      <td>0</td>\n",
       "      <td>0</td>\n",
       "      <td>1</td>\n",
       "      <td>14</td>\n",
       "    </tr>\n",
       "    <tr>\n",
       "      <th>14</th>\n",
       "      <td>2017-03-15</td>\n",
       "      <td>184346</td>\n",
       "      <td>1410668</td>\n",
       "      <td>1896352</td>\n",
       "      <td>1189319112</td>\n",
       "      <td>0</td>\n",
       "      <td>0</td>\n",
       "      <td>2</td>\n",
       "      <td>15</td>\n",
       "    </tr>\n",
       "  </tbody>\n",
       "</table>\n",
       "</div>"
      ],
      "text/plain": [
       "         Date  Views_show  Visitors  Views_platform  Ad_impression  \\\n",
       "0  2017-03-01      183738   1260228         1706478     1060860448   \n",
       "1  2017-03-02      193763   1270561         1690727     1031846645   \n",
       "2  2017-03-03      210479   1248183         1726157     1010867575   \n",
       "3  2017-03-04      240061   1492913         1855353     1079194579   \n",
       "4  2017-03-05      446314   1594712         2041418     1357736987   \n",
       "5  2017-03-06      342997   1330689         1742540     1140228426   \n",
       "6  2017-03-07      227313   1363579         1821742     1113811802   \n",
       "7  2017-03-08      180313   1353483         1795456     1083475096   \n",
       "8  2017-03-09      178800   1345428         1794157     1067636147   \n",
       "9  2017-03-10      201180   1344540         1834967     1081234843   \n",
       "10 2017-03-11      218956   1500926         1926280     1119900035   \n",
       "11 2017-03-12      437117   1554859         2015050     1390620085   \n",
       "12 2017-03-13      263638   1438887         1808967     1231295791   \n",
       "13 2017-03-14      185896   1459500         1864134     1210330496   \n",
       "14 2017-03-15      184346   1410668         1896352     1189319112   \n",
       "\n",
       "    Cricket_match_india  Character_A  Day_of_week  Day  \n",
       "0                     0            0            2    1  \n",
       "1                     0            0            3    2  \n",
       "2                     0            0            4    3  \n",
       "3                     1            0            5    4  \n",
       "4                     0            0            6    5  \n",
       "5                     0            0            0    6  \n",
       "6                     0            0            1    7  \n",
       "7                     0            0            2    8  \n",
       "8                     0            0            3    9  \n",
       "9                     0            0            4   10  \n",
       "10                    0            0            5   11  \n",
       "11                    0            0            6   12  \n",
       "12                    0            0            0   13  \n",
       "13                    0            0            1   14  \n",
       "14                    0            0            2   15  "
      ]
     },
     "execution_count": 13,
     "metadata": {},
     "output_type": "execute_result"
    }
   ],
   "source": [
    "show_data.head(15)"
   ]
  },
  {
   "cell_type": "code",
   "execution_count": 14,
   "metadata": {},
   "outputs": [
    {
     "name": "stdout",
     "output_type": "stream",
     "text": [
      "<class 'pandas.core.frame.DataFrame'>\n",
      "RangeIndex: 80 entries, 0 to 79\n",
      "Data columns (total 9 columns):\n",
      " #   Column               Non-Null Count  Dtype         \n",
      "---  ------               --------------  -----         \n",
      " 0   Date                 80 non-null     datetime64[ns]\n",
      " 1   Views_show           80 non-null     int64         \n",
      " 2   Visitors             80 non-null     int64         \n",
      " 3   Views_platform       80 non-null     int64         \n",
      " 4   Ad_impression        80 non-null     int64         \n",
      " 5   Cricket_match_india  80 non-null     int64         \n",
      " 6   Character_A          80 non-null     int64         \n",
      " 7   Day_of_week          80 non-null     int64         \n",
      " 8   Day                  80 non-null     int64         \n",
      "dtypes: datetime64[ns](1), int64(8)\n",
      "memory usage: 5.8 KB\n"
     ]
    }
   ],
   "source": [
    "show_data.info()"
   ]
  },
  {
   "cell_type": "code",
   "execution_count": 15,
   "metadata": {},
   "outputs": [
    {
     "name": "stderr",
     "output_type": "stream",
     "text": [
      "c:\\users\\aditya\\appdata\\local\\programs\\python\\python37\\lib\\site-packages\\seaborn\\axisgrid.py:2071: UserWarning: The `size` parameter has been renamed to `height`; please update your code.\n",
      "  warnings.warn(msg, UserWarning)\n"
     ]
    },
    {
     "data": {
      "text/plain": [
       "<seaborn.axisgrid.PairGrid at 0x128e4175288>"
      ]
     },
     "execution_count": 15,
     "metadata": {},
     "output_type": "execute_result"
    },
    {
     "data": {
      "text/plain": [
       "<Figure size 1152x576 with 0 Axes>"
      ]
     },
     "metadata": {},
     "output_type": "display_data"
    },
    {
     "data": {
      "image/png": "[encoded data removed]",
      "text/plain": [
       "<Figure size 288x576 with 1 Axes>"
      ]
     },
     "metadata": {
      "needs_background": "light"
     },
     "output_type": "display_data"
    }
   ],
   "source": [
    "plt.figure(figsize=(16,8))\n",
    "sns.pairplot(show_data,x_vars='Day_of_week',y_vars='Views_show',aspect=0.5,size=8)"
   ]
  },
  {
   "cell_type": "code",
   "execution_count": 16,
   "metadata": {},
   "outputs": [
    {
     "data": {
      "text/plain": [
       "<matplotlib.axes._subplots.AxesSubplot at 0x128e426ac88>"
      ]
     },
     "execution_count": 16,
     "metadata": {},
     "output_type": "execute_result"
    },
    {
     "data": {
      "image/png": "[encoded data removed]",
      "text/plain": [
       "<Figure size 432x288 with 1 Axes>"
      ]
     },
     "metadata": {
      "needs_background": "light"
     },
     "output_type": "display_data"
    }
   ],
   "source": [
    "show_data.plot('Day',\"Views_show\")"
   ]
  },
  {
   "cell_type": "code",
   "execution_count": 17,
   "metadata": {},
   "outputs": [],
   "source": [
    "X = show_data[['Visitors','Day_of_week']]\n",
    "y= show_data['Views_show']"
   ]
  },
  {
   "cell_type": "code",
   "execution_count": 18,
   "metadata": {},
   "outputs": [],
   "source": [
    "from sklearn.linear_model import LinearRegression"
   ]
  },
  {
   "cell_type": "code",
   "execution_count": 19,
   "metadata": {},
   "outputs": [],
   "source": [
    "lm = LinearRegression()"
   ]
  },
  {
   "cell_type": "code",
   "execution_count": 20,
   "metadata": {},
   "outputs": [
    {
     "data": {
      "text/plain": [
       "LinearRegression()"
      ]
     },
     "execution_count": 20,
     "metadata": {},
     "output_type": "execute_result"
    }
   ],
   "source": [
    "lm.fit(X,y)"
   ]
  },
  {
   "cell_type": "code",
   "execution_count": 21,
   "metadata": {},
   "outputs": [],
   "source": [
    "import statsmodels.api as sm"
   ]
  },
  {
   "cell_type": "code",
   "execution_count": 22,
   "metadata": {},
   "outputs": [],
   "source": [
    "X = sm.add_constant(X)\n",
    "\n",
    "lm_1 =  sm.OLS(y,X).fit()"
   ]
  },
  {
   "cell_type": "code",
   "execution_count": 23,
   "metadata": {},
   "outputs": [
    {
     "name": "stdout",
     "output_type": "stream",
     "text": [
      "                            OLS Regression Results                            \n",
      "==============================================================================\n",
      "Dep. Variable:             Views_show   R-squared:                       0.358\n",
      "Model:                            OLS   Adj. R-squared:                  0.341\n",
      "Method:                 Least Squares   F-statistic:                     21.44\n",
      "Date:                Sun, 28 Jun 2020   Prob (F-statistic):           3.98e-08\n",
      "Time:                        23:22:17   Log-Likelihood:                -1051.4\n",
      "No. Observations:                  80   AIC:                             2109.\n",
      "Df Residuals:                      77   BIC:                             2116.\n",
      "Df Model:                           2                                         \n",
      "Covariance Type:            nonrobust                                         \n",
      "===============================================================================\n",
      "                  coef    std err          t      P>|t|      [0.025      0.975]\n",
      "-------------------------------------------------------------------------------\n",
      "const       -2.927e+05   1.05e+05     -2.778      0.007   -5.02e+05   -8.29e+04\n",
      "Visitors        0.3044      0.064      4.758      0.000       0.177       0.432\n",
      "Day_of_week   2.18e+04   7466.315      2.920      0.005    6931.179    3.67e+04\n",
      "==============================================================================\n",
      "Omnibus:                        3.323   Durbin-Watson:                   0.776\n",
      "Prob(Omnibus):                  0.190   Jarque-Bera (JB):                3.101\n",
      "Skew:                           0.411   Prob(JB):                        0.212\n",
      "Kurtosis:                       2.495   Cond. No.                     1.28e+07\n",
      "==============================================================================\n",
      "\n",
      "Warnings:\n",
      "[1] Standard Errors assume that the covariance matrix of the errors is correctly specified.\n",
      "[2] The condition number is large, 1.28e+07. This might indicate that there are\n",
      "strong multicollinearity or other numerical problems.\n"
     ]
    }
   ],
   "source": [
    "print(lm_1.summary())"
   ]
  },
  {
   "cell_type": "code",
   "execution_count": 24,
   "metadata": {},
   "outputs": [],
   "source": [
    "def check_weekend(i):\n",
    "    if i % 6 == 5 : return 1\n",
    "    elif ((i % 6 ==0) & (i==6)): return 1\n",
    "    #elif i ==0 : return 0\n",
    "    else : return 0\n",
    "    return i\n",
    "show_data['Day_of_week'] = [check_weekend(i) for i in show_data['Day_of_week']]"
   ]
  },
  {
   "cell_type": "code",
   "execution_count": 25,
   "metadata": {},
   "outputs": [
    {
     "data": {
      "text/html": [
       "<div>\n",
       "<style scoped>\n",
       "    .dataframe tbody tr th:only-of-type {\n",
       "        vertical-align: middle;\n",
       "    }\n",
       "\n",
       "    .dataframe tbody tr th {\n",
       "        vertical-align: top;\n",
       "    }\n",
       "\n",
       "    .dataframe thead th {\n",
       "        text-align: right;\n",
       "    }\n",
       "</style>\n",
       "<table border=\"1\" class=\"dataframe\">\n",
       "  <thead>\n",
       "    <tr style=\"text-align: right;\">\n",
       "      <th></th>\n",
       "      <th>Date</th>\n",
       "      <th>Views_show</th>\n",
       "      <th>Visitors</th>\n",
       "      <th>Views_platform</th>\n",
       "      <th>Ad_impression</th>\n",
       "      <th>Cricket_match_india</th>\n",
       "      <th>Character_A</th>\n",
       "      <th>Day_of_week</th>\n",
       "      <th>Day</th>\n",
       "    </tr>\n",
       "  </thead>\n",
       "  <tbody>\n",
       "    <tr>\n",
       "      <th>0</th>\n",
       "      <td>2017-03-01</td>\n",
       "      <td>183738</td>\n",
       "      <td>1260228</td>\n",
       "      <td>1706478</td>\n",
       "      <td>1060860448</td>\n",
       "      <td>0</td>\n",
       "      <td>0</td>\n",
       "      <td>0</td>\n",
       "      <td>1</td>\n",
       "    </tr>\n",
       "    <tr>\n",
       "      <th>1</th>\n",
       "      <td>2017-03-02</td>\n",
       "      <td>193763</td>\n",
       "      <td>1270561</td>\n",
       "      <td>1690727</td>\n",
       "      <td>1031846645</td>\n",
       "      <td>0</td>\n",
       "      <td>0</td>\n",
       "      <td>0</td>\n",
       "      <td>2</td>\n",
       "    </tr>\n",
       "    <tr>\n",
       "      <th>2</th>\n",
       "      <td>2017-03-03</td>\n",
       "      <td>210479</td>\n",
       "      <td>1248183</td>\n",
       "      <td>1726157</td>\n",
       "      <td>1010867575</td>\n",
       "      <td>0</td>\n",
       "      <td>0</td>\n",
       "      <td>0</td>\n",
       "      <td>3</td>\n",
       "    </tr>\n",
       "    <tr>\n",
       "      <th>3</th>\n",
       "      <td>2017-03-04</td>\n",
       "      <td>240061</td>\n",
       "      <td>1492913</td>\n",
       "      <td>1855353</td>\n",
       "      <td>1079194579</td>\n",
       "      <td>1</td>\n",
       "      <td>0</td>\n",
       "      <td>1</td>\n",
       "      <td>4</td>\n",
       "    </tr>\n",
       "    <tr>\n",
       "      <th>4</th>\n",
       "      <td>2017-03-05</td>\n",
       "      <td>446314</td>\n",
       "      <td>1594712</td>\n",
       "      <td>2041418</td>\n",
       "      <td>1357736987</td>\n",
       "      <td>0</td>\n",
       "      <td>0</td>\n",
       "      <td>1</td>\n",
       "      <td>5</td>\n",
       "    </tr>\n",
       "    <tr>\n",
       "      <th>5</th>\n",
       "      <td>2017-03-06</td>\n",
       "      <td>342997</td>\n",
       "      <td>1330689</td>\n",
       "      <td>1742540</td>\n",
       "      <td>1140228426</td>\n",
       "      <td>0</td>\n",
       "      <td>0</td>\n",
       "      <td>0</td>\n",
       "      <td>6</td>\n",
       "    </tr>\n",
       "    <tr>\n",
       "      <th>6</th>\n",
       "      <td>2017-03-07</td>\n",
       "      <td>227313</td>\n",
       "      <td>1363579</td>\n",
       "      <td>1821742</td>\n",
       "      <td>1113811802</td>\n",
       "      <td>0</td>\n",
       "      <td>0</td>\n",
       "      <td>0</td>\n",
       "      <td>7</td>\n",
       "    </tr>\n",
       "    <tr>\n",
       "      <th>7</th>\n",
       "      <td>2017-03-08</td>\n",
       "      <td>180313</td>\n",
       "      <td>1353483</td>\n",
       "      <td>1795456</td>\n",
       "      <td>1083475096</td>\n",
       "      <td>0</td>\n",
       "      <td>0</td>\n",
       "      <td>0</td>\n",
       "      <td>8</td>\n",
       "    </tr>\n",
       "    <tr>\n",
       "      <th>8</th>\n",
       "      <td>2017-03-09</td>\n",
       "      <td>178800</td>\n",
       "      <td>1345428</td>\n",
       "      <td>1794157</td>\n",
       "      <td>1067636147</td>\n",
       "      <td>0</td>\n",
       "      <td>0</td>\n",
       "      <td>0</td>\n",
       "      <td>9</td>\n",
       "    </tr>\n",
       "    <tr>\n",
       "      <th>9</th>\n",
       "      <td>2017-03-10</td>\n",
       "      <td>201180</td>\n",
       "      <td>1344540</td>\n",
       "      <td>1834967</td>\n",
       "      <td>1081234843</td>\n",
       "      <td>0</td>\n",
       "      <td>0</td>\n",
       "      <td>0</td>\n",
       "      <td>10</td>\n",
       "    </tr>\n",
       "    <tr>\n",
       "      <th>10</th>\n",
       "      <td>2017-03-11</td>\n",
       "      <td>218956</td>\n",
       "      <td>1500926</td>\n",
       "      <td>1926280</td>\n",
       "      <td>1119900035</td>\n",
       "      <td>0</td>\n",
       "      <td>0</td>\n",
       "      <td>1</td>\n",
       "      <td>11</td>\n",
       "    </tr>\n",
       "    <tr>\n",
       "      <th>11</th>\n",
       "      <td>2017-03-12</td>\n",
       "      <td>437117</td>\n",
       "      <td>1554859</td>\n",
       "      <td>2015050</td>\n",
       "      <td>1390620085</td>\n",
       "      <td>0</td>\n",
       "      <td>0</td>\n",
       "      <td>1</td>\n",
       "      <td>12</td>\n",
       "    </tr>\n",
       "    <tr>\n",
       "      <th>12</th>\n",
       "      <td>2017-03-13</td>\n",
       "      <td>263638</td>\n",
       "      <td>1438887</td>\n",
       "      <td>1808967</td>\n",
       "      <td>1231295791</td>\n",
       "      <td>0</td>\n",
       "      <td>0</td>\n",
       "      <td>0</td>\n",
       "      <td>13</td>\n",
       "    </tr>\n",
       "    <tr>\n",
       "      <th>13</th>\n",
       "      <td>2017-03-14</td>\n",
       "      <td>185896</td>\n",
       "      <td>1459500</td>\n",
       "      <td>1864134</td>\n",
       "      <td>1210330496</td>\n",
       "      <td>0</td>\n",
       "      <td>0</td>\n",
       "      <td>0</td>\n",
       "      <td>14</td>\n",
       "    </tr>\n",
       "    <tr>\n",
       "      <th>14</th>\n",
       "      <td>2017-03-15</td>\n",
       "      <td>184346</td>\n",
       "      <td>1410668</td>\n",
       "      <td>1896352</td>\n",
       "      <td>1189319112</td>\n",
       "      <td>0</td>\n",
       "      <td>0</td>\n",
       "      <td>0</td>\n",
       "      <td>15</td>\n",
       "    </tr>\n",
       "  </tbody>\n",
       "</table>\n",
       "</div>"
      ],
      "text/plain": [
       "         Date  Views_show  Visitors  Views_platform  Ad_impression  \\\n",
       "0  2017-03-01      183738   1260228         1706478     1060860448   \n",
       "1  2017-03-02      193763   1270561         1690727     1031846645   \n",
       "2  2017-03-03      210479   1248183         1726157     1010867575   \n",
       "3  2017-03-04      240061   1492913         1855353     1079194579   \n",
       "4  2017-03-05      446314   1594712         2041418     1357736987   \n",
       "5  2017-03-06      342997   1330689         1742540     1140228426   \n",
       "6  2017-03-07      227313   1363579         1821742     1113811802   \n",
       "7  2017-03-08      180313   1353483         1795456     1083475096   \n",
       "8  2017-03-09      178800   1345428         1794157     1067636147   \n",
       "9  2017-03-10      201180   1344540         1834967     1081234843   \n",
       "10 2017-03-11      218956   1500926         1926280     1119900035   \n",
       "11 2017-03-12      437117   1554859         2015050     1390620085   \n",
       "12 2017-03-13      263638   1438887         1808967     1231295791   \n",
       "13 2017-03-14      185896   1459500         1864134     1210330496   \n",
       "14 2017-03-15      184346   1410668         1896352     1189319112   \n",
       "\n",
       "    Cricket_match_india  Character_A  Day_of_week  Day  \n",
       "0                     0            0            0    1  \n",
       "1                     0            0            0    2  \n",
       "2                     0            0            0    3  \n",
       "3                     1            0            1    4  \n",
       "4                     0            0            1    5  \n",
       "5                     0            0            0    6  \n",
       "6                     0            0            0    7  \n",
       "7                     0            0            0    8  \n",
       "8                     0            0            0    9  \n",
       "9                     0            0            0   10  \n",
       "10                    0            0            1   11  \n",
       "11                    0            0            1   12  \n",
       "12                    0            0            0   13  \n",
       "13                    0            0            0   14  \n",
       "14                    0            0            0   15  "
      ]
     },
     "execution_count": 25,
     "metadata": {},
     "output_type": "execute_result"
    }
   ],
   "source": [
    "show_data.head(15)"
   ]
  },
  {
   "cell_type": "code",
   "execution_count": 26,
   "metadata": {},
   "outputs": [],
   "source": [
    "X = show_data[['Visitors','Day_of_week','Character_A']]\n",
    "y= show_data['Views_show']"
   ]
  },
  {
   "cell_type": "code",
   "execution_count": 27,
   "metadata": {},
   "outputs": [
    {
     "data": {
      "text/plain": [
       "LinearRegression()"
      ]
     },
     "execution_count": 27,
     "metadata": {},
     "output_type": "execute_result"
    }
   ],
   "source": [
    "lm.fit(X,y)"
   ]
  },
  {
   "cell_type": "code",
   "execution_count": 28,
   "metadata": {},
   "outputs": [],
   "source": [
    "X = sm.add_constant(X)\n",
    "\n",
    "lm_2 =  sm.OLS(y,X).fit()"
   ]
  },
  {
   "cell_type": "code",
   "execution_count": 29,
   "metadata": {},
   "outputs": [
    {
     "name": "stdout",
     "output_type": "stream",
     "text": [
      "                            OLS Regression Results                            \n",
      "==============================================================================\n",
      "Dep. Variable:             Views_show   R-squared:                       0.586\n",
      "Model:                            OLS   Adj. R-squared:                  0.570\n",
      "Method:                 Least Squares   F-statistic:                     35.84\n",
      "Date:                Sun, 28 Jun 2020   Prob (F-statistic):           1.53e-14\n",
      "Time:                        23:22:17   Log-Likelihood:                -1033.8\n",
      "No. Observations:                  80   AIC:                             2076.\n",
      "Df Residuals:                      76   BIC:                             2085.\n",
      "Df Model:                           3                                         \n",
      "Covariance Type:            nonrobust                                         \n",
      "===============================================================================\n",
      "                  coef    std err          t      P>|t|      [0.025      0.975]\n",
      "-------------------------------------------------------------------------------\n",
      "const       -4.722e+04   9.31e+04     -0.507      0.613   -2.33e+05    1.38e+05\n",
      "Visitors        0.1480      0.057      2.586      0.012       0.034       0.262\n",
      "Day_of_week  1.812e+05   2.89e+04      6.281      0.000    1.24e+05    2.39e+05\n",
      "Character_A  9.542e+04   2.41e+04      3.963      0.000    4.75e+04    1.43e+05\n",
      "==============================================================================\n",
      "Omnibus:                        0.908   Durbin-Watson:                   1.600\n",
      "Prob(Omnibus):                  0.635   Jarque-Bera (JB):                0.876\n",
      "Skew:                          -0.009   Prob(JB):                        0.645\n",
      "Kurtosis:                       2.488   Cond. No.                     1.42e+07\n",
      "==============================================================================\n",
      "\n",
      "Warnings:\n",
      "[1] Standard Errors assume that the covariance matrix of the errors is correctly specified.\n",
      "[2] The condition number is large, 1.42e+07. This might indicate that there are\n",
      "strong multicollinearity or other numerical problems.\n"
     ]
    }
   ],
   "source": [
    "print(lm_2.summary())"
   ]
  },
  {
   "cell_type": "code",
   "execution_count": 30,
   "metadata": {},
   "outputs": [],
   "source": [
    "show_data['Lag_view'] = np.roll(show_data['Views_show'],1)\n",
    "show_data.Lag_view.replace(108961,0,inplace=True)"
   ]
  },
  {
   "cell_type": "code",
   "execution_count": 31,
   "metadata": {},
   "outputs": [
    {
     "data": {
      "text/html": [
       "<div>\n",
       "<style scoped>\n",
       "    .dataframe tbody tr th:only-of-type {\n",
       "        vertical-align: middle;\n",
       "    }\n",
       "\n",
       "    .dataframe tbody tr th {\n",
       "        vertical-align: top;\n",
       "    }\n",
       "\n",
       "    .dataframe thead th {\n",
       "        text-align: right;\n",
       "    }\n",
       "</style>\n",
       "<table border=\"1\" class=\"dataframe\">\n",
       "  <thead>\n",
       "    <tr style=\"text-align: right;\">\n",
       "      <th></th>\n",
       "      <th>Date</th>\n",
       "      <th>Views_show</th>\n",
       "      <th>Visitors</th>\n",
       "      <th>Views_platform</th>\n",
       "      <th>Ad_impression</th>\n",
       "      <th>Cricket_match_india</th>\n",
       "      <th>Character_A</th>\n",
       "      <th>Day_of_week</th>\n",
       "      <th>Day</th>\n",
       "      <th>Lag_view</th>\n",
       "    </tr>\n",
       "  </thead>\n",
       "  <tbody>\n",
       "    <tr>\n",
       "      <th>0</th>\n",
       "      <td>2017-03-01</td>\n",
       "      <td>183738</td>\n",
       "      <td>1260228</td>\n",
       "      <td>1706478</td>\n",
       "      <td>1060860448</td>\n",
       "      <td>0</td>\n",
       "      <td>0</td>\n",
       "      <td>0</td>\n",
       "      <td>1</td>\n",
       "      <td>0</td>\n",
       "    </tr>\n",
       "    <tr>\n",
       "      <th>1</th>\n",
       "      <td>2017-03-02</td>\n",
       "      <td>193763</td>\n",
       "      <td>1270561</td>\n",
       "      <td>1690727</td>\n",
       "      <td>1031846645</td>\n",
       "      <td>0</td>\n",
       "      <td>0</td>\n",
       "      <td>0</td>\n",
       "      <td>2</td>\n",
       "      <td>183738</td>\n",
       "    </tr>\n",
       "    <tr>\n",
       "      <th>2</th>\n",
       "      <td>2017-03-03</td>\n",
       "      <td>210479</td>\n",
       "      <td>1248183</td>\n",
       "      <td>1726157</td>\n",
       "      <td>1010867575</td>\n",
       "      <td>0</td>\n",
       "      <td>0</td>\n",
       "      <td>0</td>\n",
       "      <td>3</td>\n",
       "      <td>193763</td>\n",
       "    </tr>\n",
       "    <tr>\n",
       "      <th>3</th>\n",
       "      <td>2017-03-04</td>\n",
       "      <td>240061</td>\n",
       "      <td>1492913</td>\n",
       "      <td>1855353</td>\n",
       "      <td>1079194579</td>\n",
       "      <td>1</td>\n",
       "      <td>0</td>\n",
       "      <td>1</td>\n",
       "      <td>4</td>\n",
       "      <td>210479</td>\n",
       "    </tr>\n",
       "    <tr>\n",
       "      <th>4</th>\n",
       "      <td>2017-03-05</td>\n",
       "      <td>446314</td>\n",
       "      <td>1594712</td>\n",
       "      <td>2041418</td>\n",
       "      <td>1357736987</td>\n",
       "      <td>0</td>\n",
       "      <td>0</td>\n",
       "      <td>1</td>\n",
       "      <td>5</td>\n",
       "      <td>240061</td>\n",
       "    </tr>\n",
       "    <tr>\n",
       "      <th>...</th>\n",
       "      <td>...</td>\n",
       "      <td>...</td>\n",
       "      <td>...</td>\n",
       "      <td>...</td>\n",
       "      <td>...</td>\n",
       "      <td>...</td>\n",
       "      <td>...</td>\n",
       "      <td>...</td>\n",
       "      <td>...</td>\n",
       "      <td>...</td>\n",
       "    </tr>\n",
       "    <tr>\n",
       "      <th>75</th>\n",
       "      <td>2017-05-15</td>\n",
       "      <td>313945</td>\n",
       "      <td>1808684</td>\n",
       "      <td>2226788</td>\n",
       "      <td>1398052759</td>\n",
       "      <td>1</td>\n",
       "      <td>0</td>\n",
       "      <td>0</td>\n",
       "      <td>76</td>\n",
       "      <td>631962</td>\n",
       "    </tr>\n",
       "    <tr>\n",
       "      <th>76</th>\n",
       "      <td>2017-05-16</td>\n",
       "      <td>185689</td>\n",
       "      <td>1814227</td>\n",
       "      <td>2199844</td>\n",
       "      <td>1311961223</td>\n",
       "      <td>1</td>\n",
       "      <td>0</td>\n",
       "      <td>0</td>\n",
       "      <td>77</td>\n",
       "      <td>313945</td>\n",
       "    </tr>\n",
       "    <tr>\n",
       "      <th>77</th>\n",
       "      <td>2017-05-17</td>\n",
       "      <td>142260</td>\n",
       "      <td>1755803</td>\n",
       "      <td>2225752</td>\n",
       "      <td>1248266254</td>\n",
       "      <td>1</td>\n",
       "      <td>0</td>\n",
       "      <td>0</td>\n",
       "      <td>78</td>\n",
       "      <td>185689</td>\n",
       "    </tr>\n",
       "    <tr>\n",
       "      <th>78</th>\n",
       "      <td>2017-05-18</td>\n",
       "      <td>135871</td>\n",
       "      <td>1749654</td>\n",
       "      <td>2302789</td>\n",
       "      <td>1284859759</td>\n",
       "      <td>1</td>\n",
       "      <td>0</td>\n",
       "      <td>0</td>\n",
       "      <td>79</td>\n",
       "      <td>142260</td>\n",
       "    </tr>\n",
       "    <tr>\n",
       "      <th>79</th>\n",
       "      <td>2017-05-19</td>\n",
       "      <td>108961</td>\n",
       "      <td>1746735</td>\n",
       "      <td>2279036</td>\n",
       "      <td>1246026846</td>\n",
       "      <td>1</td>\n",
       "      <td>0</td>\n",
       "      <td>0</td>\n",
       "      <td>80</td>\n",
       "      <td>135871</td>\n",
       "    </tr>\n",
       "  </tbody>\n",
       "</table>\n",
       "<p>80 rows × 10 columns</p>\n",
       "</div>"
      ],
      "text/plain": [
       "         Date  Views_show  Visitors  Views_platform  Ad_impression  \\\n",
       "0  2017-03-01      183738   1260228         1706478     1060860448   \n",
       "1  2017-03-02      193763   1270561         1690727     1031846645   \n",
       "2  2017-03-03      210479   1248183         1726157     1010867575   \n",
       "3  2017-03-04      240061   1492913         1855353     1079194579   \n",
       "4  2017-03-05      446314   1594712         2041418     1357736987   \n",
       "..        ...         ...       ...             ...            ...   \n",
       "75 2017-05-15      313945   1808684         2226788     1398052759   \n",
       "76 2017-05-16      185689   1814227         2199844     1311961223   \n",
       "77 2017-05-17      142260   1755803         2225752     1248266254   \n",
       "78 2017-05-18      135871   1749654         2302789     1284859759   \n",
       "79 2017-05-19      108961   1746735         2279036     1246026846   \n",
       "\n",
       "    Cricket_match_india  Character_A  Day_of_week  Day  Lag_view  \n",
       "0                     0            0            0    1         0  \n",
       "1                     0            0            0    2    183738  \n",
       "2                     0            0            0    3    193763  \n",
       "3                     1            0            1    4    210479  \n",
       "4                     0            0            1    5    240061  \n",
       "..                  ...          ...          ...  ...       ...  \n",
       "75                    1            0            0   76    631962  \n",
       "76                    1            0            0   77    313945  \n",
       "77                    1            0            0   78    185689  \n",
       "78                    1            0            0   79    142260  \n",
       "79                    1            0            0   80    135871  \n",
       "\n",
       "[80 rows x 10 columns]"
      ]
     },
     "execution_count": 31,
     "metadata": {},
     "output_type": "execute_result"
    }
   ],
   "source": [
    "show_data"
   ]
  },
  {
   "cell_type": "code",
   "execution_count": 32,
   "metadata": {},
   "outputs": [],
   "source": [
    "X = show_data[['Visitors','Day_of_week','Character_A','Lag_view']]\n",
    "y= show_data['Views_show']"
   ]
  },
  {
   "cell_type": "code",
   "execution_count": 33,
   "metadata": {},
   "outputs": [
    {
     "name": "stdout",
     "output_type": "stream",
     "text": [
      "                            OLS Regression Results                            \n",
      "==============================================================================\n",
      "Dep. Variable:             Views_show   R-squared:                       0.740\n",
      "Model:                            OLS   Adj. R-squared:                  0.726\n",
      "Method:                 Least Squares   F-statistic:                     53.46\n",
      "Date:                Sun, 28 Jun 2020   Prob (F-statistic):           3.16e-21\n",
      "Time:                        23:22:18   Log-Likelihood:                -1015.1\n",
      "No. Observations:                  80   AIC:                             2040.\n",
      "Df Residuals:                      75   BIC:                             2052.\n",
      "Df Model:                           4                                         \n",
      "Covariance Type:            nonrobust                                         \n",
      "===============================================================================\n",
      "                  coef    std err          t      P>|t|      [0.025      0.975]\n",
      "-------------------------------------------------------------------------------\n",
      "const        -2.98e+04   7.43e+04     -0.401      0.689   -1.78e+05    1.18e+05\n",
      "Visitors        0.0659      0.047      1.394      0.167      -0.028       0.160\n",
      "Day_of_week  2.273e+05    2.4e+04      9.467      0.000    1.79e+05    2.75e+05\n",
      "Character_A  5.527e+04   2.01e+04      2.748      0.008    1.52e+04    9.53e+04\n",
      "Lag_view        0.4317      0.065      6.679      0.000       0.303       0.560\n",
      "==============================================================================\n",
      "Omnibus:                        1.425   Durbin-Watson:                   2.626\n",
      "Prob(Omnibus):                  0.491   Jarque-Bera (JB):                0.821\n",
      "Skew:                          -0.130   Prob(JB):                        0.663\n",
      "Kurtosis:                       3.423   Cond. No.                     1.44e+07\n",
      "==============================================================================\n",
      "\n",
      "Warnings:\n",
      "[1] Standard Errors assume that the covariance matrix of the errors is correctly specified.\n",
      "[2] The condition number is large, 1.44e+07. This might indicate that there are\n",
      "strong multicollinearity or other numerical problems.\n"
     ]
    }
   ],
   "source": [
    "X = sm.add_constant(X)\n",
    "lm_3 =  sm.OLS(y,X).fit()\n",
    "print(lm_3.summary())"
   ]
  },
  {
   "cell_type": "code",
   "execution_count": 34,
   "metadata": {},
   "outputs": [],
   "source": [
    "X = show_data[['Visitors','Day_of_week','Character_A','Lag_view','Cricket_match_india']]\n",
    "y= show_data['Views_show']"
   ]
  },
  {
   "cell_type": "code",
   "execution_count": 35,
   "metadata": {},
   "outputs": [
    {
     "name": "stdout",
     "output_type": "stream",
     "text": [
      "                            OLS Regression Results                            \n",
      "==============================================================================\n",
      "Dep. Variable:             Views_show   R-squared:                       0.745\n",
      "Model:                            OLS   Adj. R-squared:                  0.728\n",
      "Method:                 Least Squares   F-statistic:                     43.20\n",
      "Date:                Sun, 28 Jun 2020   Prob (F-statistic):           1.31e-20\n",
      "Time:                        23:22:18   Log-Likelihood:                -1014.4\n",
      "No. Observations:                  80   AIC:                             2041.\n",
      "Df Residuals:                      74   BIC:                             2055.\n",
      "Df Model:                           5                                         \n",
      "Covariance Type:            nonrobust                                         \n",
      "=======================================================================================\n",
      "                          coef    std err          t      P>|t|      [0.025      0.975]\n",
      "---------------------------------------------------------------------------------------\n",
      "const               -4.096e+04   7.47e+04     -0.548      0.585    -1.9e+05    1.08e+05\n",
      "Visitors                0.0766      0.048      1.592      0.116      -0.019       0.172\n",
      "Day_of_week          2.271e+05    2.4e+04      9.479      0.000    1.79e+05    2.75e+05\n",
      "Character_A          4.861e+04   2.09e+04      2.325      0.023    6952.546    9.03e+04\n",
      "Lag_view                0.4288      0.065      6.644      0.000       0.300       0.557\n",
      "Cricket_match_india -3.649e+04    3.2e+04     -1.141      0.258      -1e+05    2.72e+04\n",
      "==============================================================================\n",
      "Omnibus:                        2.108   Durbin-Watson:                   2.574\n",
      "Prob(Omnibus):                  0.349   Jarque-Bera (JB):                1.575\n",
      "Skew:                          -0.079   Prob(JB):                        0.455\n",
      "Kurtosis:                       3.669   Cond. No.                     1.45e+07\n",
      "==============================================================================\n",
      "\n",
      "Warnings:\n",
      "[1] Standard Errors assume that the covariance matrix of the errors is correctly specified.\n",
      "[2] The condition number is large, 1.45e+07. This might indicate that there are\n",
      "strong multicollinearity or other numerical problems.\n"
     ]
    }
   ],
   "source": [
    "X = sm.add_constant(X)\n",
    "lm_4 =  sm.OLS(y,X).fit()\n",
    "print(lm_4.summary())"
   ]
  },
  {
   "cell_type": "code",
   "execution_count": 36,
   "metadata": {},
   "outputs": [
    {
     "data": {
      "text/plain": [
       "LinearRegression()"
      ]
     },
     "execution_count": 36,
     "metadata": {},
     "output_type": "execute_result"
    }
   ],
   "source": [
    "lm.fit(X,y)"
   ]
  },
  {
   "cell_type": "code",
   "execution_count": 37,
   "metadata": {},
   "outputs": [],
   "source": [
    "X = show_data[['Day_of_week','Character_A','Cricket_match_india','Ad_impression']]\n",
    "y= show_data['Views_show']"
   ]
  },
  {
   "cell_type": "code",
   "execution_count": 38,
   "metadata": {},
   "outputs": [
    {
     "name": "stdout",
     "output_type": "stream",
     "text": [
      "                            OLS Regression Results                            \n",
      "==============================================================================\n",
      "Dep. Variable:             Views_show   R-squared:                       0.803\n",
      "Model:                            OLS   Adj. R-squared:                  0.793\n",
      "Method:                 Least Squares   F-statistic:                     76.59\n",
      "Date:                Sun, 28 Jun 2020   Prob (F-statistic):           1.02e-25\n",
      "Time:                        23:22:18   Log-Likelihood:                -1004.0\n",
      "No. Observations:                  80   AIC:                             2018.\n",
      "Df Residuals:                      75   BIC:                             2030.\n",
      "Df Model:                           4                                         \n",
      "Covariance Type:            nonrobust                                         \n",
      "=======================================================================================\n",
      "                          coef    std err          t      P>|t|      [0.025      0.975]\n",
      "---------------------------------------------------------------------------------------\n",
      "const               -2.633e+05    4.8e+04     -5.484      0.000   -3.59e+05   -1.68e+05\n",
      "Day_of_week          1.521e+05    1.9e+04      7.987      0.000    1.14e+05     1.9e+05\n",
      "Character_A         -3.196e+04   2.19e+04     -1.457      0.149   -7.57e+04    1.17e+04\n",
      "Cricket_match_india -1.396e+04   2.74e+04     -0.510      0.612   -6.85e+04    4.06e+04\n",
      "Ad_impression           0.0004   3.71e-05      9.802      0.000       0.000       0.000\n",
      "==============================================================================\n",
      "Omnibus:                        5.270   Durbin-Watson:                   1.161\n",
      "Prob(Omnibus):                  0.072   Jarque-Bera (JB):                4.560\n",
      "Skew:                           0.468   Prob(JB):                        0.102\n",
      "Kurtosis:                       3.701   Cond. No.                     9.32e+09\n",
      "==============================================================================\n",
      "\n",
      "Warnings:\n",
      "[1] Standard Errors assume that the covariance matrix of the errors is correctly specified.\n",
      "[2] The condition number is large, 9.32e+09. This might indicate that there are\n",
      "strong multicollinearity or other numerical problems.\n"
     ]
    }
   ],
   "source": [
    "X = sm.add_constant(X)\n",
    "lm_5 =  sm.OLS(y,X).fit()\n",
    "print(lm_5.summary())"
   ]
  },
  {
   "cell_type": "code",
   "execution_count": 39,
   "metadata": {},
   "outputs": [],
   "source": [
    "show_data['Ad_impression'] = show_data.Ad_impression/1000000"
   ]
  },
  {
   "cell_type": "code",
   "execution_count": 40,
   "metadata": {},
   "outputs": [],
   "source": [
    "X = show_data[['Day_of_week','Ad_impression']]\n",
    "y= show_data['Views_show']"
   ]
  },
  {
   "cell_type": "code",
   "execution_count": 41,
   "metadata": {},
   "outputs": [],
   "source": [
    "from sklearn.model_selection import train_test_split\n",
    "X_train,X_test,y_train,y_test = train_test_split(X,y, train_size=0.8,random_state=10)"
   ]
  },
  {
   "cell_type": "code",
   "execution_count": 42,
   "metadata": {},
   "outputs": [
    {
     "name": "stdout",
     "output_type": "stream",
     "text": [
      "                                 OLS Regression Results                                \n",
      "=======================================================================================\n",
      "Dep. Variable:             Views_show   R-squared (uncentered):                   0.936\n",
      "Model:                            OLS   Adj. R-squared (uncentered):              0.934\n",
      "Method:                 Least Squares   F-statistic:                              456.2\n",
      "Date:                Sun, 28 Jun 2020   Prob (F-statistic):                    8.17e-38\n",
      "Time:                        23:22:18   Log-Likelihood:                         -812.52\n",
      "No. Observations:                  64   AIC:                                      1629.\n",
      "Df Residuals:                      62   BIC:                                      1633.\n",
      "Df Model:                           2                                                  \n",
      "Covariance Type:            nonrobust                                                  \n",
      "=================================================================================\n",
      "                    coef    std err          t      P>|t|      [0.025      0.975]\n",
      "---------------------------------------------------------------------------------\n",
      "Day_of_week    1.616e+05   2.31e+04      6.992      0.000    1.15e+05    2.08e+05\n",
      "Ad_impression   170.3267      8.505     20.027      0.000     153.326     187.327\n",
      "==============================================================================\n",
      "Omnibus:                        3.370   Durbin-Watson:                   1.858\n",
      "Prob(Omnibus):                  0.185   Jarque-Bera (JB):                2.581\n",
      "Skew:                           0.468   Prob(JB):                        0.275\n",
      "Kurtosis:                       3.301   Cond. No.                     3.32e+03\n",
      "==============================================================================\n",
      "\n",
      "Warnings:\n",
      "[1] Standard Errors assume that the covariance matrix of the errors is correctly specified.\n",
      "[2] The condition number is large, 3.32e+03. This might indicate that there are\n",
      "strong multicollinearity or other numerical problems.\n"
     ]
    }
   ],
   "source": [
    "X = sm.add_constant(X)\n",
    "lm_6 =  sm.OLS(y_train,X_train).fit()\n",
    "print(lm_6.summary())"
   ]
  },
  {
   "cell_type": "code",
   "execution_count": 43,
   "metadata": {},
   "outputs": [
    {
     "data": {
      "text/plain": [
       "LinearRegression()"
      ]
     },
     "execution_count": 43,
     "metadata": {},
     "output_type": "execute_result"
    }
   ],
   "source": [
    "lm.fit(X_train,y_train)"
   ]
  },
  {
   "cell_type": "code",
   "execution_count": 44,
   "metadata": {},
   "outputs": [],
   "source": [
    "prediction = lm.predict(X_test)"
   ]
  },
  {
   "cell_type": "code",
   "execution_count": 45,
   "metadata": {},
   "outputs": [],
   "source": [
    "from sklearn.metrics import mean_squared_error,r2_score"
   ]
  },
  {
   "cell_type": "code",
   "execution_count": 46,
   "metadata": {},
   "outputs": [
    {
     "data": {
      "text/plain": [
       "7074807341.106851"
      ]
     },
     "execution_count": 46,
     "metadata": {},
     "output_type": "execute_result"
    }
   ],
   "source": [
    "mean_squared_error(prediction,y_test)"
   ]
  },
  {
   "cell_type": "code",
   "execution_count": 47,
   "metadata": {},
   "outputs": [
    {
     "data": {
      "text/plain": [
       "0.7190951015848325"
      ]
     },
     "execution_count": 47,
     "metadata": {},
     "output_type": "execute_result"
    }
   ],
   "source": [
    "r2_score(prediction,y_test)"
   ]
  },
  {
   "cell_type": "code",
   "execution_count": 51,
   "metadata": {},
   "outputs": [],
   "source": [
    "predict = lm.predict(X.drop('const',axis=1))"
   ]
  },
  {
   "cell_type": "code",
   "execution_count": 52,
   "metadata": {},
   "outputs": [
    {
     "data": {
      "text/plain": [
       "[<matplotlib.lines.Line2D at 0x128e5235988>]"
      ]
     },
     "execution_count": 52,
     "metadata": {},
     "output_type": "execute_result"
    },
    {
     "data": {
      "image/png": "[encoded data removed]",
      "text/plain": [
       "<Figure size 432x288 with 1 Axes>"
      ]
     },
     "metadata": {
      "needs_background": "light"
     },
     "output_type": "display_data"
    }
   ],
   "source": [
    "c = [i for i in range(1,81,1)]\n",
    "plt.plot(c,show_data.Views_show, color='blue')\n",
    "plt.plot(c,predict, color='red')"
   ]
  },
  {
   "cell_type": "code",
   "execution_count": null,
   "metadata": {},
   "outputs": [],
   "source": []
  }
 ],
 "metadata": {
  "kernelspec": {
   "display_name": "Python 3",
   "language": "python",
   "name": "python3"
  },
  "language_info": {
   "codemirror_mode": {
    "name": "ipython",
    "version": 3
   },
   "file_extension": ".py",
   "mimetype": "text/x-python",
   "name": "python",
   "nbconvert_exporter": "python",
   "pygments_lexer": "ipython3",
   "version": "3.7.6"
  }
 },
 "nbformat": 4,
 "nbformat_minor": 4
}
