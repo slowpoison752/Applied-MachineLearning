{
 "cells": [
  {
   "cell_type": "code",
   "execution_count": 1,
   "metadata": {},
   "outputs": [
    {
     "name": "stderr",
     "output_type": "stream",
     "text": [
      "c:\\users\\aditya\\appdata\\local\\programs\\python\\python37\\lib\\importlib\\_bootstrap.py:219: RuntimeWarning: numpy.ufunc size changed, may indicate binary incompatibility. Expected 192 from C header, got 216 from PyObject\n",
      "  return f(*args, **kwds)\n",
      "c:\\users\\aditya\\appdata\\local\\programs\\python\\python37\\lib\\importlib\\_bootstrap.py:219: RuntimeWarning: numpy.ufunc size changed, may indicate binary incompatibility. Expected 192 from C header, got 216 from PyObject\n",
      "  return f(*args, **kwds)\n",
      "c:\\users\\aditya\\appdata\\local\\programs\\python\\python37\\lib\\importlib\\_bootstrap.py:219: RuntimeWarning: numpy.ufunc size changed, may indicate binary incompatibility. Expected 192 from C header, got 216 from PyObject\n",
      "  return f(*args, **kwds)\n",
      "c:\\users\\aditya\\appdata\\local\\programs\\python\\python37\\lib\\importlib\\_bootstrap.py:219: RuntimeWarning: numpy.ufunc size changed, may indicate binary incompatibility. Expected 192 from C header, got 216 from PyObject\n",
      "  return f(*args, **kwds)\n",
      "c:\\users\\aditya\\appdata\\local\\programs\\python\\python37\\lib\\importlib\\_bootstrap.py:219: RuntimeWarning: numpy.ufunc size changed, may indicate binary incompatibility. Expected 192 from C header, got 216 from PyObject\n",
      "  return f(*args, **kwds)\n"
     ]
    }
   ],
   "source": [
    "import matplotlib.pyplot as plt\n",
    "import pandas as pd\n",
    "import seaborn as sns\n",
    "import numpy as np"
   ]
  },
  {
   "cell_type": "code",
   "execution_count": 2,
   "metadata": {},
   "outputs": [],
   "source": [
    "customer_data= pd.read_csv('./dataset/cust_dimen.csv')\n",
    "market_data = pd.read_csv('./dataset/market_fact.csv')\n",
    "orders_data = pd.read_csv('./dataset/orders_dimen.csv')\n",
    "product_data = pd.read_csv('./dataset/prod_dimen.csv')\n",
    "shippint_data =  pd.read_csv('./dataset/shipping_dimen.csv')"
   ]
  },
  {
   "cell_type": "code",
   "execution_count": 8,
   "metadata": {},
   "outputs": [
    {
     "data": {
      "text/plain": [
       "(1832, 5)"
      ]
     },
     "execution_count": 8,
     "metadata": {},
     "output_type": "execute_result"
    }
   ],
   "source": [
    "customer_data.shape"
   ]
  },
  {
   "cell_type": "code",
   "execution_count": 9,
   "metadata": {},
   "outputs": [
    {
     "data": {
      "text/html": [
       "<div>\n",
       "<style scoped>\n",
       "    .dataframe tbody tr th:only-of-type {\n",
       "        vertical-align: middle;\n",
       "    }\n",
       "\n",
       "    .dataframe tbody tr th {\n",
       "        vertical-align: top;\n",
       "    }\n",
       "\n",
       "    .dataframe thead th {\n",
       "        text-align: right;\n",
       "    }\n",
       "</style>\n",
       "<table border=\"1\" class=\"dataframe\">\n",
       "  <thead>\n",
       "    <tr style=\"text-align: right;\">\n",
       "      <th></th>\n",
       "      <th>Customer_Name</th>\n",
       "      <th>Province</th>\n",
       "      <th>Region</th>\n",
       "      <th>Customer_Segment</th>\n",
       "      <th>Cust_id</th>\n",
       "    </tr>\n",
       "  </thead>\n",
       "  <tbody>\n",
       "    <tr>\n",
       "      <th>515</th>\n",
       "      <td>DARREN BUDD</td>\n",
       "      <td>ONTARIO</td>\n",
       "      <td>ONTARIO</td>\n",
       "      <td>CORPORATE</td>\n",
       "      <td>Cust_516</td>\n",
       "    </tr>\n",
       "    <tr>\n",
       "      <th>605</th>\n",
       "      <td>RAYMOND FAIR</td>\n",
       "      <td>NEWFOUNDLAND</td>\n",
       "      <td>ATLANTIC</td>\n",
       "      <td>SMALL BUSINESS</td>\n",
       "      <td>Cust_606</td>\n",
       "    </tr>\n",
       "    <tr>\n",
       "      <th>954</th>\n",
       "      <td>LAUREL ELLISTON</td>\n",
       "      <td>QUEBEC</td>\n",
       "      <td>QUEBEC</td>\n",
       "      <td>CORPORATE</td>\n",
       "      <td>Cust_955</td>\n",
       "    </tr>\n",
       "    <tr>\n",
       "      <th>179</th>\n",
       "      <td>HAROLD ENGLE</td>\n",
       "      <td>MANITOBA</td>\n",
       "      <td>PRARIE</td>\n",
       "      <td>CONSUMER</td>\n",
       "      <td>Cust_180</td>\n",
       "    </tr>\n",
       "    <tr>\n",
       "      <th>1340</th>\n",
       "      <td>DENNIS PARDUE</td>\n",
       "      <td>SASKACHEWAN</td>\n",
       "      <td>PRARIE</td>\n",
       "      <td>SMALL BUSINESS</td>\n",
       "      <td>Cust_1341</td>\n",
       "    </tr>\n",
       "  </tbody>\n",
       "</table>\n",
       "</div>"
      ],
      "text/plain": [
       "        Customer_Name      Province    Region Customer_Segment    Cust_id\n",
       "515       DARREN BUDD       ONTARIO   ONTARIO        CORPORATE   Cust_516\n",
       "605      RAYMOND FAIR  NEWFOUNDLAND  ATLANTIC   SMALL BUSINESS   Cust_606\n",
       "954   LAUREL ELLISTON        QUEBEC    QUEBEC        CORPORATE   Cust_955\n",
       "179      HAROLD ENGLE      MANITOBA    PRARIE         CONSUMER   Cust_180\n",
       "1340    DENNIS PARDUE   SASKACHEWAN    PRARIE   SMALL BUSINESS  Cust_1341"
      ]
     },
     "execution_count": 9,
     "metadata": {},
     "output_type": "execute_result"
    }
   ],
   "source": [
    "customer_data.sample(5)"
   ]
  },
  {
   "cell_type": "code",
   "execution_count": 11,
   "metadata": {},
   "outputs": [
    {
     "data": {
      "text/plain": [
       "(8399, 10)"
      ]
     },
     "execution_count": 11,
     "metadata": {},
     "output_type": "execute_result"
    }
   ],
   "source": [
    "market_data.shape"
   ]
  },
  {
   "cell_type": "code",
   "execution_count": 12,
   "metadata": {},
   "outputs": [
    {
     "data": {
      "text/html": [
       "<div>\n",
       "<style scoped>\n",
       "    .dataframe tbody tr th:only-of-type {\n",
       "        vertical-align: middle;\n",
       "    }\n",
       "\n",
       "    .dataframe tbody tr th {\n",
       "        vertical-align: top;\n",
       "    }\n",
       "\n",
       "    .dataframe thead th {\n",
       "        text-align: right;\n",
       "    }\n",
       "</style>\n",
       "<table border=\"1\" class=\"dataframe\">\n",
       "  <thead>\n",
       "    <tr style=\"text-align: right;\">\n",
       "      <th></th>\n",
       "      <th>Ord_id</th>\n",
       "      <th>Prod_id</th>\n",
       "      <th>Ship_id</th>\n",
       "      <th>Cust_id</th>\n",
       "      <th>Sales</th>\n",
       "      <th>Discount</th>\n",
       "      <th>Order_Quantity</th>\n",
       "      <th>Profit</th>\n",
       "      <th>Shipping_Cost</th>\n",
       "      <th>Product_Base_Margin</th>\n",
       "    </tr>\n",
       "  </thead>\n",
       "  <tbody>\n",
       "    <tr>\n",
       "      <th>3583</th>\n",
       "      <td>Ord_3322</td>\n",
       "      <td>Prod_12</td>\n",
       "      <td>SHP_4607</td>\n",
       "      <td>Cust_1198</td>\n",
       "      <td>98.77</td>\n",
       "      <td>0.07</td>\n",
       "      <td>21</td>\n",
       "      <td>41.33</td>\n",
       "      <td>0.50</td>\n",
       "      <td>0.36</td>\n",
       "    </tr>\n",
       "    <tr>\n",
       "      <th>4436</th>\n",
       "      <td>Ord_3110</td>\n",
       "      <td>Prod_2</td>\n",
       "      <td>SHP_4311</td>\n",
       "      <td>Cust_1144</td>\n",
       "      <td>506.49</td>\n",
       "      <td>0.06</td>\n",
       "      <td>19</td>\n",
       "      <td>105.69</td>\n",
       "      <td>5.37</td>\n",
       "      <td>0.50</td>\n",
       "    </tr>\n",
       "    <tr>\n",
       "      <th>7477</th>\n",
       "      <td>Ord_609</td>\n",
       "      <td>Prod_9</td>\n",
       "      <td>SHP_833</td>\n",
       "      <td>Cust_206</td>\n",
       "      <td>761.23</td>\n",
       "      <td>0.00</td>\n",
       "      <td>20</td>\n",
       "      <td>107.93</td>\n",
       "      <td>14.72</td>\n",
       "      <td>0.40</td>\n",
       "    </tr>\n",
       "    <tr>\n",
       "      <th>1217</th>\n",
       "      <td>Ord_102</td>\n",
       "      <td>Prod_6</td>\n",
       "      <td>SHP_140</td>\n",
       "      <td>Cust_43</td>\n",
       "      <td>128.21</td>\n",
       "      <td>0.05</td>\n",
       "      <td>19</td>\n",
       "      <td>-55.13</td>\n",
       "      <td>6.57</td>\n",
       "      <td>0.37</td>\n",
       "    </tr>\n",
       "    <tr>\n",
       "      <th>7731</th>\n",
       "      <td>Ord_1569</td>\n",
       "      <td>Prod_5</td>\n",
       "      <td>SHP_2165</td>\n",
       "      <td>Cust_486</td>\n",
       "      <td>846.59</td>\n",
       "      <td>0.08</td>\n",
       "      <td>22</td>\n",
       "      <td>-1.95</td>\n",
       "      <td>18.98</td>\n",
       "      <td>0.57</td>\n",
       "    </tr>\n",
       "  </tbody>\n",
       "</table>\n",
       "</div>"
      ],
      "text/plain": [
       "        Ord_id  Prod_id   Ship_id    Cust_id   Sales  Discount  \\\n",
       "3583  Ord_3322  Prod_12  SHP_4607  Cust_1198   98.77      0.07   \n",
       "4436  Ord_3110   Prod_2  SHP_4311  Cust_1144  506.49      0.06   \n",
       "7477   Ord_609   Prod_9   SHP_833   Cust_206  761.23      0.00   \n",
       "1217   Ord_102   Prod_6   SHP_140    Cust_43  128.21      0.05   \n",
       "7731  Ord_1569   Prod_5  SHP_2165   Cust_486  846.59      0.08   \n",
       "\n",
       "      Order_Quantity  Profit  Shipping_Cost  Product_Base_Margin  \n",
       "3583              21   41.33           0.50                 0.36  \n",
       "4436              19  105.69           5.37                 0.50  \n",
       "7477              20  107.93          14.72                 0.40  \n",
       "1217              19  -55.13           6.57                 0.37  \n",
       "7731              22   -1.95          18.98                 0.57  "
      ]
     },
     "execution_count": 12,
     "metadata": {},
     "output_type": "execute_result"
    }
   ],
   "source": [
    "market_data.sample(5)"
   ]
  },
  {
   "cell_type": "code",
   "execution_count": 13,
   "metadata": {},
   "outputs": [
    {
     "data": {
      "text/plain": [
       "(5506, 4)"
      ]
     },
     "execution_count": 13,
     "metadata": {},
     "output_type": "execute_result"
    }
   ],
   "source": [
    "orders_data.shape"
   ]
  },
  {
   "cell_type": "code",
   "execution_count": 14,
   "metadata": {},
   "outputs": [
    {
     "data": {
      "text/html": [
       "<div>\n",
       "<style scoped>\n",
       "    .dataframe tbody tr th:only-of-type {\n",
       "        vertical-align: middle;\n",
       "    }\n",
       "\n",
       "    .dataframe tbody tr th {\n",
       "        vertical-align: top;\n",
       "    }\n",
       "\n",
       "    .dataframe thead th {\n",
       "        text-align: right;\n",
       "    }\n",
       "</style>\n",
       "<table border=\"1\" class=\"dataframe\">\n",
       "  <thead>\n",
       "    <tr style=\"text-align: right;\">\n",
       "      <th></th>\n",
       "      <th>Order_ID</th>\n",
       "      <th>Order_Date</th>\n",
       "      <th>Order_Priority</th>\n",
       "      <th>Ord_id</th>\n",
       "    </tr>\n",
       "  </thead>\n",
       "  <tbody>\n",
       "    <tr>\n",
       "      <th>4425</th>\n",
       "      <td>10658</td>\n",
       "      <td>27-08-2009</td>\n",
       "      <td>LOW</td>\n",
       "      <td>Ord_4426</td>\n",
       "    </tr>\n",
       "    <tr>\n",
       "      <th>3113</th>\n",
       "      <td>57475</td>\n",
       "      <td>04-10-2010</td>\n",
       "      <td>LOW</td>\n",
       "      <td>Ord_3114</td>\n",
       "    </tr>\n",
       "    <tr>\n",
       "      <th>2153</th>\n",
       "      <td>40165</td>\n",
       "      <td>02-03-2011</td>\n",
       "      <td>HIGH</td>\n",
       "      <td>Ord_2154</td>\n",
       "    </tr>\n",
       "    <tr>\n",
       "      <th>1305</th>\n",
       "      <td>355</td>\n",
       "      <td>13-06-2009</td>\n",
       "      <td>LOW</td>\n",
       "      <td>Ord_1306</td>\n",
       "    </tr>\n",
       "    <tr>\n",
       "      <th>4678</th>\n",
       "      <td>41888</td>\n",
       "      <td>28-02-2009</td>\n",
       "      <td>LOW</td>\n",
       "      <td>Ord_4679</td>\n",
       "    </tr>\n",
       "  </tbody>\n",
       "</table>\n",
       "</div>"
      ],
      "text/plain": [
       "      Order_ID  Order_Date Order_Priority    Ord_id\n",
       "4425     10658  27-08-2009            LOW  Ord_4426\n",
       "3113     57475  04-10-2010            LOW  Ord_3114\n",
       "2153     40165  02-03-2011           HIGH  Ord_2154\n",
       "1305       355  13-06-2009            LOW  Ord_1306\n",
       "4678     41888  28-02-2009            LOW  Ord_4679"
      ]
     },
     "execution_count": 14,
     "metadata": {},
     "output_type": "execute_result"
    }
   ],
   "source": [
    "orders_data.sample(5)"
   ]
  },
  {
   "cell_type": "code",
   "execution_count": 15,
   "metadata": {},
   "outputs": [
    {
     "data": {
      "text/plain": [
       "(17, 3)"
      ]
     },
     "execution_count": 15,
     "metadata": {},
     "output_type": "execute_result"
    }
   ],
   "source": [
    "product_data.shape"
   ]
  },
  {
   "cell_type": "code",
   "execution_count": 16,
   "metadata": {},
   "outputs": [
    {
     "data": {
      "text/html": [
       "<div>\n",
       "<style scoped>\n",
       "    .dataframe tbody tr th:only-of-type {\n",
       "        vertical-align: middle;\n",
       "    }\n",
       "\n",
       "    .dataframe tbody tr th {\n",
       "        vertical-align: top;\n",
       "    }\n",
       "\n",
       "    .dataframe thead th {\n",
       "        text-align: right;\n",
       "    }\n",
       "</style>\n",
       "<table border=\"1\" class=\"dataframe\">\n",
       "  <thead>\n",
       "    <tr style=\"text-align: right;\">\n",
       "      <th></th>\n",
       "      <th>Product_Category</th>\n",
       "      <th>Product_Sub_Category</th>\n",
       "      <th>Prod_id</th>\n",
       "    </tr>\n",
       "  </thead>\n",
       "  <tbody>\n",
       "    <tr>\n",
       "      <th>11</th>\n",
       "      <td>OFFICE SUPPLIES</td>\n",
       "      <td>LABELS</td>\n",
       "      <td>Prod_12</td>\n",
       "    </tr>\n",
       "    <tr>\n",
       "      <th>7</th>\n",
       "      <td>TECHNOLOGY</td>\n",
       "      <td>COMPUTER PERIPHERALS</td>\n",
       "      <td>Prod_8</td>\n",
       "    </tr>\n",
       "    <tr>\n",
       "      <th>2</th>\n",
       "      <td>OFFICE SUPPLIES</td>\n",
       "      <td>BINDERS AND BINDER ACCESSORIES</td>\n",
       "      <td>Prod_3</td>\n",
       "    </tr>\n",
       "    <tr>\n",
       "      <th>1</th>\n",
       "      <td>OFFICE SUPPLIES</td>\n",
       "      <td>APPLIANCES</td>\n",
       "      <td>Prod_2</td>\n",
       "    </tr>\n",
       "    <tr>\n",
       "      <th>3</th>\n",
       "      <td>TECHNOLOGY</td>\n",
       "      <td>TELEPHONES AND COMMUNICATION</td>\n",
       "      <td>Prod_4</td>\n",
       "    </tr>\n",
       "  </tbody>\n",
       "</table>\n",
       "</div>"
      ],
      "text/plain": [
       "   Product_Category            Product_Sub_Category  Prod_id\n",
       "11  OFFICE SUPPLIES                          LABELS  Prod_12\n",
       "7        TECHNOLOGY            COMPUTER PERIPHERALS   Prod_8\n",
       "2   OFFICE SUPPLIES  BINDERS AND BINDER ACCESSORIES   Prod_3\n",
       "1   OFFICE SUPPLIES                      APPLIANCES   Prod_2\n",
       "3        TECHNOLOGY    TELEPHONES AND COMMUNICATION   Prod_4"
      ]
     },
     "execution_count": 16,
     "metadata": {},
     "output_type": "execute_result"
    }
   ],
   "source": [
    "product_data.sample(5)"
   ]
  },
  {
   "cell_type": "code",
   "execution_count": 17,
   "metadata": {},
   "outputs": [
    {
     "data": {
      "text/plain": [
       "(7701, 4)"
      ]
     },
     "execution_count": 17,
     "metadata": {},
     "output_type": "execute_result"
    }
   ],
   "source": [
    "shippint_data.shape"
   ]
  },
  {
   "cell_type": "code",
   "execution_count": 19,
   "metadata": {},
   "outputs": [
    {
     "data": {
      "text/html": [
       "<div>\n",
       "<style scoped>\n",
       "    .dataframe tbody tr th:only-of-type {\n",
       "        vertical-align: middle;\n",
       "    }\n",
       "\n",
       "    .dataframe tbody tr th {\n",
       "        vertical-align: top;\n",
       "    }\n",
       "\n",
       "    .dataframe thead th {\n",
       "        text-align: right;\n",
       "    }\n",
       "</style>\n",
       "<table border=\"1\" class=\"dataframe\">\n",
       "  <thead>\n",
       "    <tr style=\"text-align: right;\">\n",
       "      <th></th>\n",
       "      <th>Order_ID</th>\n",
       "      <th>Ship_Mode</th>\n",
       "      <th>Ship_Date</th>\n",
       "      <th>Ship_id</th>\n",
       "    </tr>\n",
       "  </thead>\n",
       "  <tbody>\n",
       "    <tr>\n",
       "      <th>3648</th>\n",
       "      <td>23205</td>\n",
       "      <td>DELIVERY TRUCK</td>\n",
       "      <td>25-05-2009</td>\n",
       "      <td>SHP_3649</td>\n",
       "    </tr>\n",
       "    <tr>\n",
       "      <th>3986</th>\n",
       "      <td>24707</td>\n",
       "      <td>REGULAR AIR</td>\n",
       "      <td>12-03-2012</td>\n",
       "      <td>SHP_3987</td>\n",
       "    </tr>\n",
       "    <tr>\n",
       "      <th>7416</th>\n",
       "      <td>37218</td>\n",
       "      <td>REGULAR AIR</td>\n",
       "      <td>20-12-2010</td>\n",
       "      <td>SHP_7417</td>\n",
       "    </tr>\n",
       "    <tr>\n",
       "      <th>81</th>\n",
       "      <td>9927</td>\n",
       "      <td>DELIVERY TRUCK</td>\n",
       "      <td>17-08-2011</td>\n",
       "      <td>SHP_82</td>\n",
       "    </tr>\n",
       "    <tr>\n",
       "      <th>3336</th>\n",
       "      <td>28581</td>\n",
       "      <td>REGULAR AIR</td>\n",
       "      <td>09-12-2011</td>\n",
       "      <td>SHP_3337</td>\n",
       "    </tr>\n",
       "  </tbody>\n",
       "</table>\n",
       "</div>"
      ],
      "text/plain": [
       "      Order_ID       Ship_Mode   Ship_Date   Ship_id\n",
       "3648     23205  DELIVERY TRUCK  25-05-2009  SHP_3649\n",
       "3986     24707     REGULAR AIR  12-03-2012  SHP_3987\n",
       "7416     37218     REGULAR AIR  20-12-2010  SHP_7417\n",
       "81        9927  DELIVERY TRUCK  17-08-2011    SHP_82\n",
       "3336     28581     REGULAR AIR  09-12-2011  SHP_3337"
      ]
     },
     "execution_count": 19,
     "metadata": {},
     "output_type": "execute_result"
    }
   ],
   "source": [
    "shippint_data.sample(5)"
   ]
  },
  {
   "cell_type": "code",
   "execution_count": 6,
   "metadata": {},
   "outputs": [
    {
     "data": {
      "image/png": "[encoded data removed]",
      "text/plain": [
       "<Figure size 432x288 with 1 Axes>"
      ]
     },
     "metadata": {
      "needs_background": "light"
     },
     "output_type": "display_data"
    }
   ],
   "source": [
    "#visualizing sales data with boxplot\n",
    "sns.boxplot(y=market_data['Sales'])\n",
    "plt.yscale('log')"
   ]
  },
  {
   "cell_type": "code",
   "execution_count": 21,
   "metadata": {},
   "outputs": [
    {
     "data": {
      "text/html": [
       "<div>\n",
       "<style scoped>\n",
       "    .dataframe tbody tr th:only-of-type {\n",
       "        vertical-align: middle;\n",
       "    }\n",
       "\n",
       "    .dataframe tbody tr th {\n",
       "        vertical-align: top;\n",
       "    }\n",
       "\n",
       "    .dataframe thead th {\n",
       "        text-align: right;\n",
       "    }\n",
       "</style>\n",
       "<table border=\"1\" class=\"dataframe\">\n",
       "  <thead>\n",
       "    <tr style=\"text-align: right;\">\n",
       "      <th></th>\n",
       "      <th>Ord_id</th>\n",
       "      <th>Prod_id</th>\n",
       "      <th>Ship_id</th>\n",
       "      <th>Cust_id</th>\n",
       "      <th>Sales</th>\n",
       "      <th>Discount</th>\n",
       "      <th>Order_Quantity</th>\n",
       "      <th>Profit</th>\n",
       "      <th>Shipping_Cost</th>\n",
       "      <th>Product_Base_Margin</th>\n",
       "      <th>Product_Category</th>\n",
       "      <th>Product_Sub_Category</th>\n",
       "    </tr>\n",
       "  </thead>\n",
       "  <tbody>\n",
       "    <tr>\n",
       "      <th>6299</th>\n",
       "      <td>Ord_4655</td>\n",
       "      <td>Prod_3</td>\n",
       "      <td>SHP_6486</td>\n",
       "      <td>Cust_1609</td>\n",
       "      <td>230.29</td>\n",
       "      <td>0.03</td>\n",
       "      <td>7</td>\n",
       "      <td>-4.30</td>\n",
       "      <td>12.62</td>\n",
       "      <td>0.37</td>\n",
       "      <td>OFFICE SUPPLIES</td>\n",
       "      <td>BINDERS AND BINDER ACCESSORIES</td>\n",
       "    </tr>\n",
       "    <tr>\n",
       "      <th>2929</th>\n",
       "      <td>Ord_4535</td>\n",
       "      <td>Prod_17</td>\n",
       "      <td>SHP_6311</td>\n",
       "      <td>Cust_1543</td>\n",
       "      <td>3259.25</td>\n",
       "      <td>0.04</td>\n",
       "      <td>37</td>\n",
       "      <td>580.33</td>\n",
       "      <td>28.00</td>\n",
       "      <td>0.38</td>\n",
       "      <td>TECHNOLOGY</td>\n",
       "      <td>OFFICE MACHINES</td>\n",
       "    </tr>\n",
       "    <tr>\n",
       "      <th>1709</th>\n",
       "      <td>Ord_5167</td>\n",
       "      <td>Prod_6</td>\n",
       "      <td>SHP_7222</td>\n",
       "      <td>Cust_1756</td>\n",
       "      <td>1275.61</td>\n",
       "      <td>0.08</td>\n",
       "      <td>35</td>\n",
       "      <td>517.33</td>\n",
       "      <td>5.08</td>\n",
       "      <td>0.38</td>\n",
       "      <td>OFFICE SUPPLIES</td>\n",
       "      <td>PAPER</td>\n",
       "    </tr>\n",
       "    <tr>\n",
       "      <th>3111</th>\n",
       "      <td>Ord_4340</td>\n",
       "      <td>Prod_17</td>\n",
       "      <td>SHP_6049</td>\n",
       "      <td>Cust_1465</td>\n",
       "      <td>90.56</td>\n",
       "      <td>0.03</td>\n",
       "      <td>6</td>\n",
       "      <td>-37.58</td>\n",
       "      <td>7.51</td>\n",
       "      <td>0.39</td>\n",
       "      <td>TECHNOLOGY</td>\n",
       "      <td>OFFICE MACHINES</td>\n",
       "    </tr>\n",
       "    <tr>\n",
       "      <th>6028</th>\n",
       "      <td>Ord_924</td>\n",
       "      <td>Prod_7</td>\n",
       "      <td>SHP_1279</td>\n",
       "      <td>Cust_327</td>\n",
       "      <td>41.23</td>\n",
       "      <td>0.09</td>\n",
       "      <td>35</td>\n",
       "      <td>-21.51</td>\n",
       "      <td>0.70</td>\n",
       "      <td>0.81</td>\n",
       "      <td>OFFICE SUPPLIES</td>\n",
       "      <td>RUBBER BANDS</td>\n",
       "    </tr>\n",
       "  </tbody>\n",
       "</table>\n",
       "</div>"
      ],
      "text/plain": [
       "        Ord_id  Prod_id   Ship_id    Cust_id    Sales  Discount  \\\n",
       "6299  Ord_4655   Prod_3  SHP_6486  Cust_1609   230.29      0.03   \n",
       "2929  Ord_4535  Prod_17  SHP_6311  Cust_1543  3259.25      0.04   \n",
       "1709  Ord_5167   Prod_6  SHP_7222  Cust_1756  1275.61      0.08   \n",
       "3111  Ord_4340  Prod_17  SHP_6049  Cust_1465    90.56      0.03   \n",
       "6028   Ord_924   Prod_7  SHP_1279   Cust_327    41.23      0.09   \n",
       "\n",
       "      Order_Quantity  Profit  Shipping_Cost  Product_Base_Margin  \\\n",
       "6299               7   -4.30          12.62                 0.37   \n",
       "2929              37  580.33          28.00                 0.38   \n",
       "1709              35  517.33           5.08                 0.38   \n",
       "3111               6  -37.58           7.51                 0.39   \n",
       "6028              35  -21.51           0.70                 0.81   \n",
       "\n",
       "     Product_Category            Product_Sub_Category  \n",
       "6299  OFFICE SUPPLIES  BINDERS AND BINDER ACCESSORIES  \n",
       "2929       TECHNOLOGY                 OFFICE MACHINES  \n",
       "1709  OFFICE SUPPLIES                           PAPER  \n",
       "3111       TECHNOLOGY                 OFFICE MACHINES  \n",
       "6028  OFFICE SUPPLIES                    RUBBER BANDS  "
      ]
     },
     "execution_count": 21,
     "metadata": {},
     "output_type": "execute_result"
    }
   ],
   "source": [
    "product = pd.merge(market_data,product_data, how='inner',on='Prod_id')\n",
    "product.sample(5)"
   ]
  },
  {
   "cell_type": "code",
   "execution_count": 22,
   "metadata": {},
   "outputs": [
    {
     "data": {
      "text/plain": [
       "(8399, 12)"
      ]
     },
     "execution_count": 22,
     "metadata": {},
     "output_type": "execute_result"
    }
   ],
   "source": [
    "product.shape"
   ]
  },
  {
   "cell_type": "code",
   "execution_count": 24,
   "metadata": {},
   "outputs": [
    {
     "data": {
      "image/png": "[encoded data removed]",
      "text/plain": [
       "<Figure size 432x288 with 1 Axes>"
      ]
     },
     "metadata": {
      "needs_background": "light"
     },
     "output_type": "display_data"
    }
   ],
   "source": [
    "sns.boxplot(x='Product_Category',y='Sales',data=product)\n",
    "plt.yscale('log')"
   ]
  },
  {
   "cell_type": "code",
   "execution_count": 26,
   "metadata": {},
   "outputs": [
    {
     "data": {
      "text/plain": [
       "<matplotlib.axes._subplots.AxesSubplot at 0x202f507d2c8>"
      ]
     },
     "execution_count": 26,
     "metadata": {},
     "output_type": "execute_result"
    },
    {
     "data": {
      "image/png": "[encoded data removed]",
      "text/plain": [
       "<Figure size 432x288 with 1 Axes>"
      ]
     },
     "metadata": {
      "needs_background": "light"
     },
     "output_type": "display_data"
    }
   ],
   "source": [
    "product = product[(product.Profit<1000) & (product.Profit>-1000)]\n",
    "sns.boxplot(x='Product_Category',y='Profit',data=product)\n",
    "#plt.yscale('log')"
   ]
  },
  {
   "cell_type": "code",
   "execution_count": 31,
   "metadata": {},
   "outputs": [
    {
     "data": {
      "text/plain": [
       "<matplotlib.axes._subplots.AxesSubplot at 0x202f4451f88>"
      ]
     },
     "execution_count": 31,
     "metadata": {},
     "output_type": "execute_result"
    },
    {
     "data": {
      "image/png": "[encoded data removed]",
      "text/plain": [
       "<Figure size 1152x576 with 2 Axes>"
      ]
     },
     "metadata": {
      "needs_background": "light"
     },
     "output_type": "display_data"
    }
   ],
   "source": [
    "plt.figure(figsize=(16,8))\n",
    "plt.subplot(1,3,1)\n",
    "sns.boxplot(x='Product_Category',y='Sales',data=product)\n",
    "plt.yscale('log')\n",
    "\n",
    "plt.subplot(1,3,3)\n",
    "product = product[(product.Profit<1000) & (product.Profit>-1000)]\n",
    "sns.boxplot(x='Product_Category',y='Profit',data=product)"
   ]
  },
  {
   "cell_type": "code",
   "execution_count": 34,
   "metadata": {},
   "outputs": [
    {
     "data": {
      "text/html": [
       "<div>\n",
       "<style scoped>\n",
       "    .dataframe tbody tr th:only-of-type {\n",
       "        vertical-align: middle;\n",
       "    }\n",
       "\n",
       "    .dataframe tbody tr th {\n",
       "        vertical-align: top;\n",
       "    }\n",
       "\n",
       "    .dataframe thead th {\n",
       "        text-align: right;\n",
       "    }\n",
       "</style>\n",
       "<table border=\"1\" class=\"dataframe\">\n",
       "  <thead>\n",
       "    <tr style=\"text-align: right;\">\n",
       "      <th></th>\n",
       "      <th>Ord_id</th>\n",
       "      <th>Prod_id</th>\n",
       "      <th>Ship_id</th>\n",
       "      <th>Cust_id</th>\n",
       "      <th>Sales</th>\n",
       "      <th>Discount</th>\n",
       "      <th>Order_Quantity</th>\n",
       "      <th>Profit</th>\n",
       "      <th>Shipping_Cost</th>\n",
       "      <th>Product_Base_Margin</th>\n",
       "      <th>Product_Category</th>\n",
       "      <th>Product_Sub_Category</th>\n",
       "      <th>Customer_Name</th>\n",
       "      <th>Province</th>\n",
       "      <th>Region</th>\n",
       "      <th>Customer_Segment</th>\n",
       "    </tr>\n",
       "  </thead>\n",
       "  <tbody>\n",
       "    <tr>\n",
       "      <th>5735</th>\n",
       "      <td>Ord_1378</td>\n",
       "      <td>Prod_8</td>\n",
       "      <td>SHP_1898</td>\n",
       "      <td>Cust_532</td>\n",
       "      <td>1446.97</td>\n",
       "      <td>0.00</td>\n",
       "      <td>47</td>\n",
       "      <td>531.47</td>\n",
       "      <td>1.99</td>\n",
       "      <td>0.50</td>\n",
       "      <td>TECHNOLOGY</td>\n",
       "      <td>COMPUTER PERIPHERALS</td>\n",
       "      <td>FRANK HAWLEY</td>\n",
       "      <td>ONTARIO</td>\n",
       "      <td>ONTARIO</td>\n",
       "      <td>HOME OFFICE</td>\n",
       "    </tr>\n",
       "    <tr>\n",
       "      <th>3622</th>\n",
       "      <td>Ord_2141</td>\n",
       "      <td>Prod_11</td>\n",
       "      <td>SHP_2920</td>\n",
       "      <td>Cust_805</td>\n",
       "      <td>2638.79</td>\n",
       "      <td>0.10</td>\n",
       "      <td>37</td>\n",
       "      <td>54.23</td>\n",
       "      <td>89.30</td>\n",
       "      <td>0.69</td>\n",
       "      <td>FURNITURE</td>\n",
       "      <td>TABLES</td>\n",
       "      <td>BARRY GONZALEZ</td>\n",
       "      <td>QUEBEC</td>\n",
       "      <td>QUEBEC</td>\n",
       "      <td>SMALL BUSINESS</td>\n",
       "    </tr>\n",
       "    <tr>\n",
       "      <th>7247</th>\n",
       "      <td>Ord_1774</td>\n",
       "      <td>Prod_1</td>\n",
       "      <td>SHP_2459</td>\n",
       "      <td>Cust_482</td>\n",
       "      <td>243.18</td>\n",
       "      <td>0.08</td>\n",
       "      <td>36</td>\n",
       "      <td>-314.22</td>\n",
       "      <td>9.69</td>\n",
       "      <td>0.83</td>\n",
       "      <td>OFFICE SUPPLIES</td>\n",
       "      <td>STORAGE &amp; ORGANIZATION</td>\n",
       "      <td>MICHAEL NGUYEN</td>\n",
       "      <td>ONTARIO</td>\n",
       "      <td>ONTARIO</td>\n",
       "      <td>SMALL BUSINESS</td>\n",
       "    </tr>\n",
       "    <tr>\n",
       "      <th>3398</th>\n",
       "      <td>Ord_2867</td>\n",
       "      <td>Prod_8</td>\n",
       "      <td>SHP_3947</td>\n",
       "      <td>Cust_1059</td>\n",
       "      <td>223.33</td>\n",
       "      <td>0.00</td>\n",
       "      <td>42</td>\n",
       "      <td>-111.89</td>\n",
       "      <td>4.32</td>\n",
       "      <td>0.64</td>\n",
       "      <td>TECHNOLOGY</td>\n",
       "      <td>COMPUTER PERIPHERALS</td>\n",
       "      <td>TROY BLACKWELL</td>\n",
       "      <td>ONTARIO</td>\n",
       "      <td>ONTARIO</td>\n",
       "      <td>HOME OFFICE</td>\n",
       "    </tr>\n",
       "    <tr>\n",
       "      <th>3302</th>\n",
       "      <td>Ord_5012</td>\n",
       "      <td>Prod_10</td>\n",
       "      <td>SHP_6992</td>\n",
       "      <td>Cust_1693</td>\n",
       "      <td>3969.43</td>\n",
       "      <td>0.10</td>\n",
       "      <td>31</td>\n",
       "      <td>-796.51</td>\n",
       "      <td>36.09</td>\n",
       "      <td>0.77</td>\n",
       "      <td>FURNITURE</td>\n",
       "      <td>BOOKCASES</td>\n",
       "      <td>TIM BROCKMAN</td>\n",
       "      <td>ALBERTA</td>\n",
       "      <td>WEST</td>\n",
       "      <td>CONSUMER</td>\n",
       "    </tr>\n",
       "  </tbody>\n",
       "</table>\n",
       "</div>"
      ],
      "text/plain": [
       "        Ord_id  Prod_id   Ship_id    Cust_id    Sales  Discount  \\\n",
       "5735  Ord_1378   Prod_8  SHP_1898   Cust_532  1446.97      0.00   \n",
       "3622  Ord_2141  Prod_11  SHP_2920   Cust_805  2638.79      0.10   \n",
       "7247  Ord_1774   Prod_1  SHP_2459   Cust_482   243.18      0.08   \n",
       "3398  Ord_2867   Prod_8  SHP_3947  Cust_1059   223.33      0.00   \n",
       "3302  Ord_5012  Prod_10  SHP_6992  Cust_1693  3969.43      0.10   \n",
       "\n",
       "      Order_Quantity  Profit  Shipping_Cost  Product_Base_Margin  \\\n",
       "5735              47  531.47           1.99                 0.50   \n",
       "3622              37   54.23          89.30                 0.69   \n",
       "7247              36 -314.22           9.69                 0.83   \n",
       "3398              42 -111.89           4.32                 0.64   \n",
       "3302              31 -796.51          36.09                 0.77   \n",
       "\n",
       "     Product_Category    Product_Sub_Category   Customer_Name Province  \\\n",
       "5735       TECHNOLOGY    COMPUTER PERIPHERALS    FRANK HAWLEY  ONTARIO   \n",
       "3622        FURNITURE                  TABLES  BARRY GONZALEZ   QUEBEC   \n",
       "7247  OFFICE SUPPLIES  STORAGE & ORGANIZATION  MICHAEL NGUYEN  ONTARIO   \n",
       "3398       TECHNOLOGY    COMPUTER PERIPHERALS  TROY BLACKWELL  ONTARIO   \n",
       "3302        FURNITURE               BOOKCASES    TIM BROCKMAN  ALBERTA   \n",
       "\n",
       "       Region Customer_Segment  \n",
       "5735  ONTARIO      HOME OFFICE  \n",
       "3622   QUEBEC   SMALL BUSINESS  \n",
       "7247  ONTARIO   SMALL BUSINESS  \n",
       "3398  ONTARIO      HOME OFFICE  \n",
       "3302     WEST         CONSUMER  "
      ]
     },
     "execution_count": 34,
     "metadata": {},
     "output_type": "execute_result"
    }
   ],
   "source": [
    "product_customer = pd.merge(product,customer_data,how='inner',on='Cust_id')\n",
    "product_customer.sample(5)"
   ]
  },
  {
   "cell_type": "code",
   "execution_count": 35,
   "metadata": {},
   "outputs": [
    {
     "data": {
      "text/plain": [
       "<matplotlib.axes._subplots.AxesSubplot at 0x202f75a3e88>"
      ]
     },
     "execution_count": 35,
     "metadata": {},
     "output_type": "execute_result"
    },
    {
     "data": {
      "image/png": "[encoded data removed]",
      "text/plain": [
       "<Figure size 1152x576 with 1 Axes>"
      ]
     },
     "metadata": {
      "needs_background": "light"
     },
     "output_type": "display_data"
    }
   ],
   "source": [
    "plt.figure(figsize=(16,8))\n",
    "#plt.subplot(1,3,1)\n",
    "sns.boxplot(x='Customer_Segment',y='Profit',hue = 'Product_Category',data=product_customer)"
   ]
  },
  {
   "cell_type": "code",
   "execution_count": 36,
   "metadata": {},
   "outputs": [
    {
     "data": {
      "text/plain": [
       "<matplotlib.axes._subplots.AxesSubplot at 0x202f74cb848>"
      ]
     },
     "execution_count": 36,
     "metadata": {},
     "output_type": "execute_result"
    },
    {
     "data": {
      "image/png": "[encoded data removed]",
      "text/plain": [
       "<Figure size 432x288 with 1 Axes>"
      ]
     },
     "metadata": {
      "needs_background": "light"
     },
     "output_type": "display_data"
    }
   ],
   "source": [
    "sns.barplot(x='Product_Category',y='Sales',data=product_customer)"
   ]
  },
  {
   "cell_type": "code",
   "execution_count": 39,
   "metadata": {},
   "outputs": [
    {
     "data": {
      "text/plain": [
       "Text(0.5, 1.0, 'Median Sales')"
      ]
     },
     "execution_count": 39,
     "metadata": {},
     "output_type": "execute_result"
    },
    {
     "data": {
      "image/png": "[encoded data removed]",
      "text/plain": [
       "<Figure size 1152x576 with 2 Axes>"
      ]
     },
     "metadata": {
      "needs_background": "light"
     },
     "output_type": "display_data"
    }
   ],
   "source": [
    "plt.figure(figsize=(16,8))\n",
    "plt.subplot(1,3,1)\n",
    "sns.barplot(x='Product_Category',y='Sales',data=product_customer)\n",
    "plt.title('Average Sales')\n",
    "\n",
    "\n",
    "plt.subplot(1,3,3)\n",
    "sns.barplot(x='Product_Category',y='Sales',data=product_customer, estimator=np.median)\n",
    "plt.title('Median Sales')"
   ]
  },
  {
   "cell_type": "code",
   "execution_count": 42,
   "metadata": {},
   "outputs": [
    {
     "data": {
      "text/plain": [
       "Text(0.5, 1.0, 'Product sales based on sub-catogery')"
      ]
     },
     "execution_count": 42,
     "metadata": {},
     "output_type": "execute_result"
    },
    {
     "data": {
      "image/png": "[encoded data removed]",
      "text/plain": [
       "<Figure size 1152x576 with 1 Axes>"
      ]
     },
     "metadata": {
      "needs_background": "light"
     },
     "output_type": "display_data"
    }
   ],
   "source": [
    "plt.figure(figsize=(16,8))\n",
    "sns.countplot(y='Product_Sub_Category',data=product_customer)\n",
    "plt.title('Product sales based on sub-catogery')"
   ]
  },
  {
   "cell_type": "code",
   "execution_count": null,
   "metadata": {},
   "outputs": [],
   "source": []
  }
 ],
 "metadata": {
  "kernelspec": {
   "display_name": "Python 3",
   "language": "python",
   "name": "python3"
  },
  "language_info": {
   "codemirror_mode": {
    "name": "ipython",
    "version": 3
   },
   "file_extension": ".py",
   "mimetype": "text/x-python",
   "name": "python",
   "nbconvert_exporter": "python",
   "pygments_lexer": "ipython3",
   "version": "3.7.6"
  }
 },
 "nbformat": 4,
 "nbformat_minor": 4
}
